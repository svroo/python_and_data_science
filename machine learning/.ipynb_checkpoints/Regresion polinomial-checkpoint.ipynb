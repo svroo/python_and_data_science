{
 "cells": [
  {
   "cell_type": "markdown",
   "id": "406d4dc6",
   "metadata": {},
   "source": [
    "## Regresión Polinomial\n",
    "\n",
    "En este notebook se trata de la regresión polinomial usando el dataset de las ventas de casas en boston.\n",
    "\n",
    "Create by: Rodrigo Salazar"
   ]
  },
  {
   "cell_type": "code",
   "execution_count": 1,
   "id": "2a1a1b52",
   "metadata": {},
   "outputs": [],
   "source": [
    "# Importacion de librerias\n",
    "import numpy as np\n",
    "from sklearn import datasets, linear_model\n",
    "import matplotlib.pyplot as plt"
   ]
  },
  {
   "cell_type": "markdown",
   "id": "f50c03ef",
   "metadata": {},
   "source": [
    "Preparación de los datos"
   ]
  },
  {
   "cell_type": "code",
   "execution_count": 2,
   "id": "64ab02a4",
   "metadata": {},
   "outputs": [
    {
     "name": "stdout",
     "output_type": "stream",
     "text": [
      "{'data': array([[6.3200e-03, 1.8000e+01, 2.3100e+00, ..., 1.5300e+01, 3.9690e+02,\n",
      "        4.9800e+00],\n",
      "       [2.7310e-02, 0.0000e+00, 7.0700e+00, ..., 1.7800e+01, 3.9690e+02,\n",
      "        9.1400e+00],\n",
      "       [2.7290e-02, 0.0000e+00, 7.0700e+00, ..., 1.7800e+01, 3.9283e+02,\n",
      "        4.0300e+00],\n",
      "       ...,\n",
      "       [6.0760e-02, 0.0000e+00, 1.1930e+01, ..., 2.1000e+01, 3.9690e+02,\n",
      "        5.6400e+00],\n",
      "       [1.0959e-01, 0.0000e+00, 1.1930e+01, ..., 2.1000e+01, 3.9345e+02,\n",
      "        6.4800e+00],\n",
      "       [4.7410e-02, 0.0000e+00, 1.1930e+01, ..., 2.1000e+01, 3.9690e+02,\n",
      "        7.8800e+00]]), 'target': array([24. , 21.6, 34.7, 33.4, 36.2, 28.7, 22.9, 27.1, 16.5, 18.9, 15. ,\n",
      "       18.9, 21.7, 20.4, 18.2, 19.9, 23.1, 17.5, 20.2, 18.2, 13.6, 19.6,\n",
      "       15.2, 14.5, 15.6, 13.9, 16.6, 14.8, 18.4, 21. , 12.7, 14.5, 13.2,\n",
      "       13.1, 13.5, 18.9, 20. , 21. , 24.7, 30.8, 34.9, 26.6, 25.3, 24.7,\n",
      "       21.2, 19.3, 20. , 16.6, 14.4, 19.4, 19.7, 20.5, 25. , 23.4, 18.9,\n",
      "       35.4, 24.7, 31.6, 23.3, 19.6, 18.7, 16. , 22.2, 25. , 33. , 23.5,\n",
      "       19.4, 22. , 17.4, 20.9, 24.2, 21.7, 22.8, 23.4, 24.1, 21.4, 20. ,\n",
      "       20.8, 21.2, 20.3, 28. , 23.9, 24.8, 22.9, 23.9, 26.6, 22.5, 22.2,\n",
      "       23.6, 28.7, 22.6, 22. , 22.9, 25. , 20.6, 28.4, 21.4, 38.7, 43.8,\n",
      "       33.2, 27.5, 26.5, 18.6, 19.3, 20.1, 19.5, 19.5, 20.4, 19.8, 19.4,\n",
      "       21.7, 22.8, 18.8, 18.7, 18.5, 18.3, 21.2, 19.2, 20.4, 19.3, 22. ,\n",
      "       20.3, 20.5, 17.3, 18.8, 21.4, 15.7, 16.2, 18. , 14.3, 19.2, 19.6,\n",
      "       23. , 18.4, 15.6, 18.1, 17.4, 17.1, 13.3, 17.8, 14. , 14.4, 13.4,\n",
      "       15.6, 11.8, 13.8, 15.6, 14.6, 17.8, 15.4, 21.5, 19.6, 15.3, 19.4,\n",
      "       17. , 15.6, 13.1, 41.3, 24.3, 23.3, 27. , 50. , 50. , 50. , 22.7,\n",
      "       25. , 50. , 23.8, 23.8, 22.3, 17.4, 19.1, 23.1, 23.6, 22.6, 29.4,\n",
      "       23.2, 24.6, 29.9, 37.2, 39.8, 36.2, 37.9, 32.5, 26.4, 29.6, 50. ,\n",
      "       32. , 29.8, 34.9, 37. , 30.5, 36.4, 31.1, 29.1, 50. , 33.3, 30.3,\n",
      "       34.6, 34.9, 32.9, 24.1, 42.3, 48.5, 50. , 22.6, 24.4, 22.5, 24.4,\n",
      "       20. , 21.7, 19.3, 22.4, 28.1, 23.7, 25. , 23.3, 28.7, 21.5, 23. ,\n",
      "       26.7, 21.7, 27.5, 30.1, 44.8, 50. , 37.6, 31.6, 46.7, 31.5, 24.3,\n",
      "       31.7, 41.7, 48.3, 29. , 24. , 25.1, 31.5, 23.7, 23.3, 22. , 20.1,\n",
      "       22.2, 23.7, 17.6, 18.5, 24.3, 20.5, 24.5, 26.2, 24.4, 24.8, 29.6,\n",
      "       42.8, 21.9, 20.9, 44. , 50. , 36. , 30.1, 33.8, 43.1, 48.8, 31. ,\n",
      "       36.5, 22.8, 30.7, 50. , 43.5, 20.7, 21.1, 25.2, 24.4, 35.2, 32.4,\n",
      "       32. , 33.2, 33.1, 29.1, 35.1, 45.4, 35.4, 46. , 50. , 32.2, 22. ,\n",
      "       20.1, 23.2, 22.3, 24.8, 28.5, 37.3, 27.9, 23.9, 21.7, 28.6, 27.1,\n",
      "       20.3, 22.5, 29. , 24.8, 22. , 26.4, 33.1, 36.1, 28.4, 33.4, 28.2,\n",
      "       22.8, 20.3, 16.1, 22.1, 19.4, 21.6, 23.8, 16.2, 17.8, 19.8, 23.1,\n",
      "       21. , 23.8, 23.1, 20.4, 18.5, 25. , 24.6, 23. , 22.2, 19.3, 22.6,\n",
      "       19.8, 17.1, 19.4, 22.2, 20.7, 21.1, 19.5, 18.5, 20.6, 19. , 18.7,\n",
      "       32.7, 16.5, 23.9, 31.2, 17.5, 17.2, 23.1, 24.5, 26.6, 22.9, 24.1,\n",
      "       18.6, 30.1, 18.2, 20.6, 17.8, 21.7, 22.7, 22.6, 25. , 19.9, 20.8,\n",
      "       16.8, 21.9, 27.5, 21.9, 23.1, 50. , 50. , 50. , 50. , 50. , 13.8,\n",
      "       13.8, 15. , 13.9, 13.3, 13.1, 10.2, 10.4, 10.9, 11.3, 12.3,  8.8,\n",
      "        7.2, 10.5,  7.4, 10.2, 11.5, 15.1, 23.2,  9.7, 13.8, 12.7, 13.1,\n",
      "       12.5,  8.5,  5. ,  6.3,  5.6,  7.2, 12.1,  8.3,  8.5,  5. , 11.9,\n",
      "       27.9, 17.2, 27.5, 15. , 17.2, 17.9, 16.3,  7. ,  7.2,  7.5, 10.4,\n",
      "        8.8,  8.4, 16.7, 14.2, 20.8, 13.4, 11.7,  8.3, 10.2, 10.9, 11. ,\n",
      "        9.5, 14.5, 14.1, 16.1, 14.3, 11.7, 13.4,  9.6,  8.7,  8.4, 12.8,\n",
      "       10.5, 17.1, 18.4, 15.4, 10.8, 11.8, 14.9, 12.6, 14.1, 13. , 13.4,\n",
      "       15.2, 16.1, 17.8, 14.9, 14.1, 12.7, 13.5, 14.9, 20. , 16.4, 17.7,\n",
      "       19.5, 20.2, 21.4, 19.9, 19. , 19.1, 19.1, 20.1, 19.9, 19.6, 23.2,\n",
      "       29.8, 13.8, 13.3, 16.7, 12. , 14.6, 21.4, 23. , 23.7, 25. , 21.8,\n",
      "       20.6, 21.2, 19.1, 20.6, 15.2,  7. ,  8.1, 13.6, 20.1, 21.8, 24.5,\n",
      "       23.1, 19.7, 18.3, 21.2, 17.5, 16.8, 22.4, 20.6, 23.9, 22. , 11.9]), 'feature_names': array(['CRIM', 'ZN', 'INDUS', 'CHAS', 'NOX', 'RM', 'AGE', 'DIS', 'RAD',\n",
      "       'TAX', 'PTRATIO', 'B', 'LSTAT'], dtype='<U7'), 'DESCR': \".. _boston_dataset:\\n\\nBoston house prices dataset\\n---------------------------\\n\\n**Data Set Characteristics:**  \\n\\n    :Number of Instances: 506 \\n\\n    :Number of Attributes: 13 numeric/categorical predictive. Median Value (attribute 14) is usually the target.\\n\\n    :Attribute Information (in order):\\n        - CRIM     per capita crime rate by town\\n        - ZN       proportion of residential land zoned for lots over 25,000 sq.ft.\\n        - INDUS    proportion of non-retail business acres per town\\n        - CHAS     Charles River dummy variable (= 1 if tract bounds river; 0 otherwise)\\n        - NOX      nitric oxides concentration (parts per 10 million)\\n        - RM       average number of rooms per dwelling\\n        - AGE      proportion of owner-occupied units built prior to 1940\\n        - DIS      weighted distances to five Boston employment centres\\n        - RAD      index of accessibility to radial highways\\n        - TAX      full-value property-tax rate per $10,000\\n        - PTRATIO  pupil-teacher ratio by town\\n        - B        1000(Bk - 0.63)^2 where Bk is the proportion of black people by town\\n        - LSTAT    % lower status of the population\\n        - MEDV     Median value of owner-occupied homes in $1000's\\n\\n    :Missing Attribute Values: None\\n\\n    :Creator: Harrison, D. and Rubinfeld, D.L.\\n\\nThis is a copy of UCI ML housing dataset.\\nhttps://archive.ics.uci.edu/ml/machine-learning-databases/housing/\\n\\n\\nThis dataset was taken from the StatLib library which is maintained at Carnegie Mellon University.\\n\\nThe Boston house-price data of Harrison, D. and Rubinfeld, D.L. 'Hedonic\\nprices and the demand for clean air', J. Environ. Economics & Management,\\nvol.5, 81-102, 1978.   Used in Belsley, Kuh & Welsch, 'Regression diagnostics\\n...', Wiley, 1980.   N.B. Various transformations are used in the table on\\npages 244-261 of the latter.\\n\\nThe Boston house-price data has been used in many machine learning papers that address regression\\nproblems.   \\n     \\n.. topic:: References\\n\\n   - Belsley, Kuh & Welsch, 'Regression diagnostics: Identifying Influential Data and Sources of Collinearity', Wiley, 1980. 244-261.\\n   - Quinlan,R. (1993). Combining Instance-Based and Model-Based Learning. In Proceedings on the Tenth International Conference of Machine Learning, 236-243, University of Massachusetts, Amherst. Morgan Kaufmann.\\n\", 'filename': 'boston_house_prices.csv', 'data_module': 'sklearn.datasets.data'}\n"
     ]
    },
    {
     "name": "stderr",
     "output_type": "stream",
     "text": [
      "C:\\Users\\hp\\anaconda3\\lib\\site-packages\\sklearn\\utils\\deprecation.py:87: FutureWarning: Function load_boston is deprecated; `load_boston` is deprecated in 1.0 and will be removed in 1.2.\n",
      "\n",
      "    The Boston housing prices dataset has an ethical problem. You can refer to\n",
      "    the documentation of this function for further details.\n",
      "\n",
      "    The scikit-learn maintainers therefore strongly discourage the use of this\n",
      "    dataset unless the purpose of the code is to study and educate about\n",
      "    ethical issues in data science and machine learning.\n",
      "\n",
      "    In this special case, you can fetch the dataset from the original\n",
      "    source::\n",
      "\n",
      "        import pandas as pd\n",
      "        import numpy as np\n",
      "\n",
      "\n",
      "        data_url = \"http://lib.stat.cmu.edu/datasets/boston\"\n",
      "        raw_df = pd.read_csv(data_url, sep=\"\\s+\", skiprows=22, header=None)\n",
      "        data = np.hstack([raw_df.values[::2, :], raw_df.values[1::2, :2]])\n",
      "        target = raw_df.values[1::2, 2]\n",
      "\n",
      "    Alternative datasets include the California housing dataset (i.e.\n",
      "    :func:`~sklearn.datasets.fetch_california_housing`) and the Ames housing\n",
      "    dataset. You can load the datasets as follows::\n",
      "\n",
      "        from sklearn.datasets import fetch_california_housing\n",
      "        housing = fetch_california_housing()\n",
      "\n",
      "    for the California housing dataset and::\n",
      "\n",
      "        from sklearn.datasets import fetch_openml\n",
      "        housing = fetch_openml(name=\"house_prices\", as_frame=True)\n",
      "\n",
      "    for the Ames housing dataset.\n",
      "    \n",
      "  warnings.warn(msg, category=FutureWarning)\n"
     ]
    }
   ],
   "source": [
    "# Importamos los datos de scikit-learn\n",
    "boston = datasets.load_boston()\n",
    "print(boston)"
   ]
  },
  {
   "cell_type": "markdown",
   "id": "52ca6d33",
   "metadata": {},
   "source": [
    "Entendimiento de los datos."
   ]
  },
  {
   "cell_type": "code",
   "execution_count": 4,
   "id": "bbdcee64",
   "metadata": {},
   "outputs": [
    {
     "name": "stdout",
     "output_type": "stream",
     "text": [
      "Informacion del dataset:\n",
      "dict_keys(['data', 'target', 'feature_names', 'DESCR', 'filename', 'data_module'])\n",
      "Caracteristicas:\n",
      ".. _boston_dataset:\n",
      "\n",
      "Boston house prices dataset\n",
      "---------------------------\n",
      "\n",
      "**Data Set Characteristics:**  \n",
      "\n",
      "    :Number of Instances: 506 \n",
      "\n",
      "    :Number of Attributes: 13 numeric/categorical predictive. Median Value (attribute 14) is usually the target.\n",
      "\n",
      "    :Attribute Information (in order):\n",
      "        - CRIM     per capita crime rate by town\n",
      "        - ZN       proportion of residential land zoned for lots over 25,000 sq.ft.\n",
      "        - INDUS    proportion of non-retail business acres per town\n",
      "        - CHAS     Charles River dummy variable (= 1 if tract bounds river; 0 otherwise)\n",
      "        - NOX      nitric oxides concentration (parts per 10 million)\n",
      "        - RM       average number of rooms per dwelling\n",
      "        - AGE      proportion of owner-occupied units built prior to 1940\n",
      "        - DIS      weighted distances to five Boston employment centres\n",
      "        - RAD      index of accessibility to radial highways\n",
      "        - TAX      full-value property-tax rate per $10,000\n",
      "        - PTRATIO  pupil-teacher ratio by town\n",
      "        - B        1000(Bk - 0.63)^2 where Bk is the proportion of black people by town\n",
      "        - LSTAT    % lower status of the population\n",
      "        - MEDV     Median value of owner-occupied homes in $1000's\n",
      "\n",
      "    :Missing Attribute Values: None\n",
      "\n",
      "    :Creator: Harrison, D. and Rubinfeld, D.L.\n",
      "\n",
      "This is a copy of UCI ML housing dataset.\n",
      "https://archive.ics.uci.edu/ml/machine-learning-databases/housing/\n",
      "\n",
      "\n",
      "This dataset was taken from the StatLib library which is maintained at Carnegie Mellon University.\n",
      "\n",
      "The Boston house-price data of Harrison, D. and Rubinfeld, D.L. 'Hedonic\n",
      "prices and the demand for clean air', J. Environ. Economics & Management,\n",
      "vol.5, 81-102, 1978.   Used in Belsley, Kuh & Welsch, 'Regression diagnostics\n",
      "...', Wiley, 1980.   N.B. Various transformations are used in the table on\n",
      "pages 244-261 of the latter.\n",
      "\n",
      "The Boston house-price data has been used in many machine learning papers that address regression\n",
      "problems.   \n",
      "     \n",
      ".. topic:: References\n",
      "\n",
      "   - Belsley, Kuh & Welsch, 'Regression diagnostics: Identifying Influential Data and Sources of Collinearity', Wiley, 1980. 244-261.\n",
      "   - Quinlan,R. (1993). Combining Instance-Based and Model-Based Learning. In Proceedings on the Tenth International Conference of Machine Learning, 236-243, University of Massachusetts, Amherst. Morgan Kaufmann.\n",
      "\n",
      "Cantidad de datos:\n",
      "(506, 13)\n",
      "Nombres columnas\n",
      "['CRIM' 'ZN' 'INDUS' 'CHAS' 'NOX' 'RM' 'AGE' 'DIS' 'RAD' 'TAX' 'PTRATIO'\n",
      " 'B' 'LSTAT']\n"
     ]
    }
   ],
   "source": [
    "# Se verifica la informacion contenida en el data set\n",
    "print(\"Informacion del dataset:\")\n",
    "print(boston.keys())\n",
    "\n",
    "# Se muestran las caracteristicas del data set\n",
    "print(\"Caracteristicas:\")\n",
    "print(boston.DESCR)\n",
    "\n",
    "# Se verifican la cantidad de datos que hay en el dataset\n",
    "print('Cantidad de datos:')\n",
    "print(boston.data.shape)\n",
    "\n",
    "# Se verifica la informacion de las columnas\n",
    "print('Nombres columnas')\n",
    "print(boston.feature_names)"
   ]
  },
  {
   "cell_type": "markdown",
   "id": "970a40ef",
   "metadata": {},
   "source": [
    "    Preparamos los datos para la Regresion Polinomial"
   ]
  },
  {
   "cell_type": "code",
   "execution_count": 6,
   "id": "d68b9d01",
   "metadata": {},
   "outputs": [
    {
     "data": {
      "image/png": "[encoded data removed]",
      "text/plain": [
       "<Figure size 432x288 with 1 Axes>"
      ]
     },
     "metadata": {
      "needs_background": "light"
     },
     "output_type": "display_data"
    }
   ],
   "source": [
    "# Seleccionamos solamente la columna 6 del dataset\n",
    "X_p = boston.data[:, np.newaxis, 5]\n",
    "\n",
    "# Se define los datos correspondientes al as etiquetas\n",
    "y_p = boston.target\n",
    "\n",
    "# Graficamos los datos correspondientes\n",
    "plt.scatter(X_p, y_p)\n",
    "plt.show()"
   ]
  },
  {
   "cell_type": "markdown",
   "id": "ea697979",
   "metadata": {},
   "source": [
    "##### Implementación de regresion polinomial\n",
    "\n"
   ]
  },
  {
   "cell_type": "code",
   "execution_count": 8,
   "id": "858bc523",
   "metadata": {},
   "outputs": [],
   "source": [
    "from sklearn.model_selection import train_test_split\n",
    "\n",
    "# Se separan los datos de \"train\" y prueba para probar los algoritmos\n",
    "X_train_p, X_test_p, y_train_p, y_test_p = train_test_split(X_p, y_p, test_size = 0.2)"
   ]
  },
  {
   "cell_type": "code",
   "execution_count": 37,
   "id": "1758adb2",
   "metadata": {},
   "outputs": [],
   "source": [
    "# Importamos la funcion del polinomio\n",
    "from sklearn.preprocessing import PolynomialFeatures\n",
    "\n",
    "# Se define el grado del polinomio\n",
    "poli_reg = PolynomialFeatures(degree = 4)\n",
    "\n",
    "# Se transforma las caracteristicas existentes en caracteristicas de mayor grado\n",
    "X_train_poli = poli_reg.fit_transform(X_train_p)\n",
    "X_test_poli = poli_reg.fit_transform(X_test_p)\n",
    "\n",
    "# Se define el algortimo a utilizar\n",
    "pr = linear_model.LinearRegression()\n",
    "\n",
    "# Se entrena al modelo\n",
    "pr.fit(X_train_poli, y_train_p)\n",
    "\n",
    "# Se realiza una prediccion\n",
    "Y_pred_pr = pr.predict(X_test_poli)"
   ]
  },
  {
   "cell_type": "code",
   "execution_count": 38,
   "id": "40fd3054",
   "metadata": {},
   "outputs": [
    {
     "name": "stdout",
     "output_type": "stream",
     "text": [
      "Y_test\t\t Y_prediccion\n",
      "22.4 \t\t 17.31\n",
      "33.1 \t\t 27.51\n",
      "23.3 \t\t 24.39\n",
      "19.9 \t\t 20.35\n",
      "30.1 \t\t 27.75\n",
      "13.1 \t\t 22.69\n",
      "28.2 \t\t 27.86\n",
      "23.1 \t\t 21.68\n",
      "23.2 \t\t 18.69\n",
      "26.7 \t\t 29.44\n",
      "20.1 \t\t 20.15\n",
      "24.4 \t\t 22.89\n",
      "8.8 \t\t 16.64\n",
      "23.9 \t\t 25.62\n",
      "16.6 \t\t 17.33\n",
      "27.5 \t\t 5.95\n",
      "32.5 \t\t 23.83\n",
      "25.0 \t\t 19.98\n",
      "43.1 \t\t 38.68\n",
      "23.8 \t\t 21.01\n",
      "11.7 \t\t 19.95\n",
      "22.2 \t\t 19.22\n",
      "50.0 \t\t 43.04\n",
      "23.8 \t\t 17.64\n",
      "22.2 \t\t 20.98\n",
      "17.0 \t\t 19.28\n",
      "10.2 \t\t 16.81\n",
      "23.5 \t\t 20.72\n",
      "8.8 \t\t 18.08\n",
      "43.8 \t\t 42.91\n",
      "19.1 \t\t 18.37\n",
      "20.5 \t\t 18.1\n",
      "22.5 \t\t 21.28\n",
      "19.3 \t\t 16.4\n",
      "10.2 \t\t 17.44\n",
      "22.6 \t\t 22.07\n",
      "22.0 \t\t 27.03\n",
      "37.6 \t\t 45.16\n",
      "22.7 \t\t 19.26\n",
      "22.9 \t\t 22.92\n",
      "18.7 \t\t 17.05\n",
      "15.4 \t\t 16.64\n",
      "34.6 \t\t 34.71\n",
      "13.4 \t\t 24.7\n",
      "21.1 \t\t 17.53\n",
      "30.7 \t\t 30.44\n",
      "20.3 \t\t 18.17\n",
      "12.0 \t\t 16.39\n",
      "17.9 \t\t 17.0\n",
      "23.8 \t\t 23.88\n",
      "20.5 \t\t 20.11\n",
      "12.7 \t\t 16.95\n",
      "26.6 \t\t 26.68\n",
      "25.1 \t\t 24.73\n",
      "35.2 \t\t 41.21\n",
      "16.1 \t\t 20.79\n",
      "29.6 \t\t 19.48\n",
      "20.7 \t\t 17.86\n",
      "36.5 \t\t 33.58\n",
      "20.6 \t\t 17.95\n",
      "29.0 \t\t 30.88\n",
      "21.2 \t\t 20.17\n",
      "25.0 \t\t 31.2\n",
      "13.3 \t\t 27.03\n",
      "20.9 \t\t 17.63\n",
      "22.2 \t\t 22.52\n",
      "22.6 \t\t 17.71\n",
      "24.8 \t\t 28.2\n",
      "31.5 \t\t 23.69\n",
      "19.2 \t\t 18.48\n",
      "33.2 \t\t 34.59\n",
      "27.5 \t\t 27.9\n",
      "20.0 \t\t 18.91\n",
      "50.0 \t\t 42.69\n",
      "37.3 \t\t 32.63\n",
      "34.9 \t\t 30.61\n",
      "18.6 \t\t 17.67\n",
      "25.0 \t\t 21.86\n",
      "14.6 \t\t 19.75\n",
      "18.1 \t\t 21.18\n",
      "13.8 \t\t 19.29\n",
      "20.6 \t\t 18.75\n",
      "10.5 \t\t 17.36\n",
      "19.4 \t\t 18.5\n",
      "14.9 \t\t 20.83\n",
      "28.4 \t\t 24.52\n",
      "19.7 \t\t 16.4\n",
      "27.1 \t\t 23.65\n",
      "22.2 \t\t 18.92\n",
      "16.5 \t\t 23.54\n",
      "24.4 \t\t 23.51\n",
      "16.1 \t\t 16.69\n",
      "28.7 \t\t 31.5\n",
      "20.1 \t\t 19.59\n",
      "19.3 \t\t 17.02\n",
      "7.2 \t\t 22.26\n",
      "24.0 \t\t 18.95\n",
      "19.8 \t\t 22.73\n",
      "23.1 \t\t 23.24\n",
      "21.4 \t\t 19.96\n",
      "22.0 \t\t 17.64\n",
      "21.5 \t\t 18.04\n"
     ]
    }
   ],
   "source": [
    "print(\"Y_test\\t\\t Y_prediccion\")\n",
    "for i in range(len(y_test_p)):\n",
    "    print(y_test_p[i],'\\t\\t', round(Y_pred_pr[i], 2))"
   ]
  },
  {
   "cell_type": "markdown",
   "id": "352de359",
   "metadata": {},
   "source": [
    "Después de comparar ambos datos (los de prediccion con los que teniamos antes) podemos inferir que algunos datos no son predichos de forma correcta pero vamos a verlo de forma más grafica"
   ]
  },
  {
   "cell_type": "code",
   "execution_count": 39,
   "id": "aa101cc8",
   "metadata": {},
   "outputs": [
    {
     "data": {
      "image/png": "[encoded data removed]",
      "text/plain": [
       "<Figure size 432x288 with 1 Axes>"
      ]
     },
     "metadata": {
      "needs_background": "light"
     },
     "output_type": "display_data"
    }
   ],
   "source": [
    "# Graficamos los datos junto con el modelo\n",
    "plt.scatter(X_test_p, y_test_p)\n",
    "# plt.plot(X_test_p, y_test_p)\n",
    "plt.plot(X_test_p, Y_pred_pr, color = 'red', linewidth = 3)\n",
    "plt.show()"
   ]
  },
  {
   "cell_type": "markdown",
   "id": "c4b32f20",
   "metadata": {},
   "source": [
    "Obtenemos los datos de la formula del modelo polinomial"
   ]
  },
  {
   "cell_type": "code",
   "execution_count": 31,
   "id": "f77763ee",
   "metadata": {},
   "outputs": [
    {
     "name": "stdout",
     "output_type": "stream",
     "text": [
      "\n",
      "\tDATOS DEL MODELO REGRESIÓN POLINOMIAL\n",
      "\n",
      "Valor de la pendiente o coeficiente \"a\":\n",
      "\t [  0.         -18.65365189   2.15813746]\n",
      "Valor de la intersección o coeficiente \"b\":\n",
      "\t 53.40895849746104\n",
      "Precisión del modelo:\n",
      "\t 0.5330006800218657\n"
     ]
    }
   ],
   "source": [
    "print()\n",
    "print(\"\\tDATOS DEL MODELO REGRESIÓN POLINOMIAL\")\n",
    "print()\n",
    "\n",
    "print('Valor de la pendiente o coeficiente \"a\":\\n\\t', pr.coef_)\n",
    "\n",
    "print('Valor de la intersección o coeficiente \"b\":\\n\\t', pr.intercept_)\n",
    "\n",
    "print('Precisión del modelo:\\n\\t', pr.score(X_train_poli, y_train_p))"
   ]
  }
 ],
 "metadata": {
  "kernelspec": {
   "display_name": "Python 3 (ipykernel)",
   "language": "python",
   "name": "python3"
  },
  "language_info": {
   "codemirror_mode": {
    "name": "ipython",
    "version": 3
   },
   "file_extension": ".py",
   "mimetype": "text/x-python",
   "name": "python",
   "nbconvert_exporter": "python",
   "pygments_lexer": "ipython3",
   "version": "3.9.12"
  }
 },
 "nbformat": 4,
 "nbformat_minor": 5
}
