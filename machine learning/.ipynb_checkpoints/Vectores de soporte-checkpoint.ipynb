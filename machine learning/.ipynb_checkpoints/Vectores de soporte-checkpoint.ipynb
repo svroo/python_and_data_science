{
 "cells": [
  {
   "cell_type": "markdown",
   "id": "8c1461db",
   "metadata": {},
   "source": [
    "### Vectores de soporte \n",
    "\n",
    "Creado por: Rodrigo Salazar"
   ]
  },
  {
   "cell_type": "code",
   "execution_count": 7,
   "id": "8158326a",
   "metadata": {},
   "outputs": [],
   "source": [
    "# Importación de librerias\n",
    "import numpy as np\n",
    "import matplotlib.pyplot as plt\n",
    "from sklearn import datasets\n",
    "from sklearn.model_selection import train_test_split\n",
    "from sklearn.svm import SVR"
   ]
  },
  {
   "cell_type": "markdown",
   "id": "1ba62fbf",
   "metadata": {},
   "source": [
    "Después de importar las librerias para trabajar vamos a preparar los datos, vamos a visualizar, vamos a dar un desglose de los datos de qeu esta conformado y la cantidad de los datos"
   ]
  },
  {
   "cell_type": "code",
   "execution_count": 3,
   "id": "52a689d8",
   "metadata": {},
   "outputs": [
    {
     "name": "stdout",
     "output_type": "stream",
     "text": [
      "{'data': array([[6.3200e-03, 1.8000e+01, 2.3100e+00, ..., 1.5300e+01, 3.9690e+02,\n",
      "        4.9800e+00],\n",
      "       [2.7310e-02, 0.0000e+00, 7.0700e+00, ..., 1.7800e+01, 3.9690e+02,\n",
      "        9.1400e+00],\n",
      "       [2.7290e-02, 0.0000e+00, 7.0700e+00, ..., 1.7800e+01, 3.9283e+02,\n",
      "        4.0300e+00],\n",
      "       ...,\n",
      "       [6.0760e-02, 0.0000e+00, 1.1930e+01, ..., 2.1000e+01, 3.9690e+02,\n",
      "        5.6400e+00],\n",
      "       [1.0959e-01, 0.0000e+00, 1.1930e+01, ..., 2.1000e+01, 3.9345e+02,\n",
      "        6.4800e+00],\n",
      "       [4.7410e-02, 0.0000e+00, 1.1930e+01, ..., 2.1000e+01, 3.9690e+02,\n",
      "        7.8800e+00]]), 'target': array([24. , 21.6, 34.7, 33.4, 36.2, 28.7, 22.9, 27.1, 16.5, 18.9, 15. ,\n",
      "       18.9, 21.7, 20.4, 18.2, 19.9, 23.1, 17.5, 20.2, 18.2, 13.6, 19.6,\n",
      "       15.2, 14.5, 15.6, 13.9, 16.6, 14.8, 18.4, 21. , 12.7, 14.5, 13.2,\n",
      "       13.1, 13.5, 18.9, 20. , 21. , 24.7, 30.8, 34.9, 26.6, 25.3, 24.7,\n",
      "       21.2, 19.3, 20. , 16.6, 14.4, 19.4, 19.7, 20.5, 25. , 23.4, 18.9,\n",
      "       35.4, 24.7, 31.6, 23.3, 19.6, 18.7, 16. , 22.2, 25. , 33. , 23.5,\n",
      "       19.4, 22. , 17.4, 20.9, 24.2, 21.7, 22.8, 23.4, 24.1, 21.4, 20. ,\n",
      "       20.8, 21.2, 20.3, 28. , 23.9, 24.8, 22.9, 23.9, 26.6, 22.5, 22.2,\n",
      "       23.6, 28.7, 22.6, 22. , 22.9, 25. , 20.6, 28.4, 21.4, 38.7, 43.8,\n",
      "       33.2, 27.5, 26.5, 18.6, 19.3, 20.1, 19.5, 19.5, 20.4, 19.8, 19.4,\n",
      "       21.7, 22.8, 18.8, 18.7, 18.5, 18.3, 21.2, 19.2, 20.4, 19.3, 22. ,\n",
      "       20.3, 20.5, 17.3, 18.8, 21.4, 15.7, 16.2, 18. , 14.3, 19.2, 19.6,\n",
      "       23. , 18.4, 15.6, 18.1, 17.4, 17.1, 13.3, 17.8, 14. , 14.4, 13.4,\n",
      "       15.6, 11.8, 13.8, 15.6, 14.6, 17.8, 15.4, 21.5, 19.6, 15.3, 19.4,\n",
      "       17. , 15.6, 13.1, 41.3, 24.3, 23.3, 27. , 50. , 50. , 50. , 22.7,\n",
      "       25. , 50. , 23.8, 23.8, 22.3, 17.4, 19.1, 23.1, 23.6, 22.6, 29.4,\n",
      "       23.2, 24.6, 29.9, 37.2, 39.8, 36.2, 37.9, 32.5, 26.4, 29.6, 50. ,\n",
      "       32. , 29.8, 34.9, 37. , 30.5, 36.4, 31.1, 29.1, 50. , 33.3, 30.3,\n",
      "       34.6, 34.9, 32.9, 24.1, 42.3, 48.5, 50. , 22.6, 24.4, 22.5, 24.4,\n",
      "       20. , 21.7, 19.3, 22.4, 28.1, 23.7, 25. , 23.3, 28.7, 21.5, 23. ,\n",
      "       26.7, 21.7, 27.5, 30.1, 44.8, 50. , 37.6, 31.6, 46.7, 31.5, 24.3,\n",
      "       31.7, 41.7, 48.3, 29. , 24. , 25.1, 31.5, 23.7, 23.3, 22. , 20.1,\n",
      "       22.2, 23.7, 17.6, 18.5, 24.3, 20.5, 24.5, 26.2, 24.4, 24.8, 29.6,\n",
      "       42.8, 21.9, 20.9, 44. , 50. , 36. , 30.1, 33.8, 43.1, 48.8, 31. ,\n",
      "       36.5, 22.8, 30.7, 50. , 43.5, 20.7, 21.1, 25.2, 24.4, 35.2, 32.4,\n",
      "       32. , 33.2, 33.1, 29.1, 35.1, 45.4, 35.4, 46. , 50. , 32.2, 22. ,\n",
      "       20.1, 23.2, 22.3, 24.8, 28.5, 37.3, 27.9, 23.9, 21.7, 28.6, 27.1,\n",
      "       20.3, 22.5, 29. , 24.8, 22. , 26.4, 33.1, 36.1, 28.4, 33.4, 28.2,\n",
      "       22.8, 20.3, 16.1, 22.1, 19.4, 21.6, 23.8, 16.2, 17.8, 19.8, 23.1,\n",
      "       21. , 23.8, 23.1, 20.4, 18.5, 25. , 24.6, 23. , 22.2, 19.3, 22.6,\n",
      "       19.8, 17.1, 19.4, 22.2, 20.7, 21.1, 19.5, 18.5, 20.6, 19. , 18.7,\n",
      "       32.7, 16.5, 23.9, 31.2, 17.5, 17.2, 23.1, 24.5, 26.6, 22.9, 24.1,\n",
      "       18.6, 30.1, 18.2, 20.6, 17.8, 21.7, 22.7, 22.6, 25. , 19.9, 20.8,\n",
      "       16.8, 21.9, 27.5, 21.9, 23.1, 50. , 50. , 50. , 50. , 50. , 13.8,\n",
      "       13.8, 15. , 13.9, 13.3, 13.1, 10.2, 10.4, 10.9, 11.3, 12.3,  8.8,\n",
      "        7.2, 10.5,  7.4, 10.2, 11.5, 15.1, 23.2,  9.7, 13.8, 12.7, 13.1,\n",
      "       12.5,  8.5,  5. ,  6.3,  5.6,  7.2, 12.1,  8.3,  8.5,  5. , 11.9,\n",
      "       27.9, 17.2, 27.5, 15. , 17.2, 17.9, 16.3,  7. ,  7.2,  7.5, 10.4,\n",
      "        8.8,  8.4, 16.7, 14.2, 20.8, 13.4, 11.7,  8.3, 10.2, 10.9, 11. ,\n",
      "        9.5, 14.5, 14.1, 16.1, 14.3, 11.7, 13.4,  9.6,  8.7,  8.4, 12.8,\n",
      "       10.5, 17.1, 18.4, 15.4, 10.8, 11.8, 14.9, 12.6, 14.1, 13. , 13.4,\n",
      "       15.2, 16.1, 17.8, 14.9, 14.1, 12.7, 13.5, 14.9, 20. , 16.4, 17.7,\n",
      "       19.5, 20.2, 21.4, 19.9, 19. , 19.1, 19.1, 20.1, 19.9, 19.6, 23.2,\n",
      "       29.8, 13.8, 13.3, 16.7, 12. , 14.6, 21.4, 23. , 23.7, 25. , 21.8,\n",
      "       20.6, 21.2, 19.1, 20.6, 15.2,  7. ,  8.1, 13.6, 20.1, 21.8, 24.5,\n",
      "       23.1, 19.7, 18.3, 21.2, 17.5, 16.8, 22.4, 20.6, 23.9, 22. , 11.9]), 'feature_names': array(['CRIM', 'ZN', 'INDUS', 'CHAS', 'NOX', 'RM', 'AGE', 'DIS', 'RAD',\n",
      "       'TAX', 'PTRATIO', 'B', 'LSTAT'], dtype='<U7'), 'DESCR': \".. _boston_dataset:\\n\\nBoston house prices dataset\\n---------------------------\\n\\n**Data Set Characteristics:**  \\n\\n    :Number of Instances: 506 \\n\\n    :Number of Attributes: 13 numeric/categorical predictive. Median Value (attribute 14) is usually the target.\\n\\n    :Attribute Information (in order):\\n        - CRIM     per capita crime rate by town\\n        - ZN       proportion of residential land zoned for lots over 25,000 sq.ft.\\n        - INDUS    proportion of non-retail business acres per town\\n        - CHAS     Charles River dummy variable (= 1 if tract bounds river; 0 otherwise)\\n        - NOX      nitric oxides concentration (parts per 10 million)\\n        - RM       average number of rooms per dwelling\\n        - AGE      proportion of owner-occupied units built prior to 1940\\n        - DIS      weighted distances to five Boston employment centres\\n        - RAD      index of accessibility to radial highways\\n        - TAX      full-value property-tax rate per $10,000\\n        - PTRATIO  pupil-teacher ratio by town\\n        - B        1000(Bk - 0.63)^2 where Bk is the proportion of black people by town\\n        - LSTAT    % lower status of the population\\n        - MEDV     Median value of owner-occupied homes in $1000's\\n\\n    :Missing Attribute Values: None\\n\\n    :Creator: Harrison, D. and Rubinfeld, D.L.\\n\\nThis is a copy of UCI ML housing dataset.\\nhttps://archive.ics.uci.edu/ml/machine-learning-databases/housing/\\n\\n\\nThis dataset was taken from the StatLib library which is maintained at Carnegie Mellon University.\\n\\nThe Boston house-price data of Harrison, D. and Rubinfeld, D.L. 'Hedonic\\nprices and the demand for clean air', J. Environ. Economics & Management,\\nvol.5, 81-102, 1978.   Used in Belsley, Kuh & Welsch, 'Regression diagnostics\\n...', Wiley, 1980.   N.B. Various transformations are used in the table on\\npages 244-261 of the latter.\\n\\nThe Boston house-price data has been used in many machine learning papers that address regression\\nproblems.   \\n     \\n.. topic:: References\\n\\n   - Belsley, Kuh & Welsch, 'Regression diagnostics: Identifying Influential Data and Sources of Collinearity', Wiley, 1980. 244-261.\\n   - Quinlan,R. (1993). Combining Instance-Based and Model-Based Learning. In Proceedings on the Tenth International Conference of Machine Learning, 236-243, University of Massachusetts, Amherst. Morgan Kaufmann.\\n\", 'filename': 'boston_house_prices.csv', 'data_module': 'sklearn.datasets.data'}\n",
      "\n",
      "Informacion en el dataset\n",
      "dict_keys(['data', 'target', 'feature_names', 'DESCR', 'filename', 'data_module'])\n",
      "\n",
      "Caracteristicas del dataset\n",
      ".. _boston_dataset:\n",
      "\n",
      "Boston house prices dataset\n",
      "---------------------------\n",
      "\n",
      "**Data Set Characteristics:**  \n",
      "\n",
      "    :Number of Instances: 506 \n",
      "\n",
      "    :Number of Attributes: 13 numeric/categorical predictive. Median Value (attribute 14) is usually the target.\n",
      "\n",
      "    :Attribute Information (in order):\n",
      "        - CRIM     per capita crime rate by town\n",
      "        - ZN       proportion of residential land zoned for lots over 25,000 sq.ft.\n",
      "        - INDUS    proportion of non-retail business acres per town\n",
      "        - CHAS     Charles River dummy variable (= 1 if tract bounds river; 0 otherwise)\n",
      "        - NOX      nitric oxides concentration (parts per 10 million)\n",
      "        - RM       average number of rooms per dwelling\n",
      "        - AGE      proportion of owner-occupied units built prior to 1940\n",
      "        - DIS      weighted distances to five Boston employment centres\n",
      "        - RAD      index of accessibility to radial highways\n",
      "        - TAX      full-value property-tax rate per $10,000\n",
      "        - PTRATIO  pupil-teacher ratio by town\n",
      "        - B        1000(Bk - 0.63)^2 where Bk is the proportion of black people by town\n",
      "        - LSTAT    % lower status of the population\n",
      "        - MEDV     Median value of owner-occupied homes in $1000's\n",
      "\n",
      "    :Missing Attribute Values: None\n",
      "\n",
      "    :Creator: Harrison, D. and Rubinfeld, D.L.\n",
      "\n",
      "This is a copy of UCI ML housing dataset.\n",
      "https://archive.ics.uci.edu/ml/machine-learning-databases/housing/\n",
      "\n",
      "\n",
      "This dataset was taken from the StatLib library which is maintained at Carnegie Mellon University.\n",
      "\n",
      "The Boston house-price data of Harrison, D. and Rubinfeld, D.L. 'Hedonic\n",
      "prices and the demand for clean air', J. Environ. Economics & Management,\n",
      "vol.5, 81-102, 1978.   Used in Belsley, Kuh & Welsch, 'Regression diagnostics\n",
      "...', Wiley, 1980.   N.B. Various transformations are used in the table on\n",
      "pages 244-261 of the latter.\n",
      "\n",
      "The Boston house-price data has been used in many machine learning papers that address regression\n",
      "problems.   \n",
      "     \n",
      ".. topic:: References\n",
      "\n",
      "   - Belsley, Kuh & Welsch, 'Regression diagnostics: Identifying Influential Data and Sources of Collinearity', Wiley, 1980. 244-261.\n",
      "   - Quinlan,R. (1993). Combining Instance-Based and Model-Based Learning. In Proceedings on the Tenth International Conference of Machine Learning, 236-243, University of Massachusetts, Amherst. Morgan Kaufmann.\n",
      "\n",
      "Cantidad de datos:\n",
      "(506, 13)\n",
      "\n",
      "Nombres de las columnas:\n",
      "['CRIM' 'ZN' 'INDUS' 'CHAS' 'NOX' 'RM' 'AGE' 'DIS' 'RAD' 'TAX' 'PTRATIO'\n",
      " 'B' 'LSTAT']\n"
     ]
    },
    {
     "name": "stderr",
     "output_type": "stream",
     "text": [
      "C:\\Users\\hp\\anaconda3\\lib\\site-packages\\sklearn\\utils\\deprecation.py:87: FutureWarning: Function load_boston is deprecated; `load_boston` is deprecated in 1.0 and will be removed in 1.2.\n",
      "\n",
      "    The Boston housing prices dataset has an ethical problem. You can refer to\n",
      "    the documentation of this function for further details.\n",
      "\n",
      "    The scikit-learn maintainers therefore strongly discourage the use of this\n",
      "    dataset unless the purpose of the code is to study and educate about\n",
      "    ethical issues in data science and machine learning.\n",
      "\n",
      "    In this special case, you can fetch the dataset from the original\n",
      "    source::\n",
      "\n",
      "        import pandas as pd\n",
      "        import numpy as np\n",
      "\n",
      "\n",
      "        data_url = \"http://lib.stat.cmu.edu/datasets/boston\"\n",
      "        raw_df = pd.read_csv(data_url, sep=\"\\s+\", skiprows=22, header=None)\n",
      "        data = np.hstack([raw_df.values[::2, :], raw_df.values[1::2, :2]])\n",
      "        target = raw_df.values[1::2, 2]\n",
      "\n",
      "    Alternative datasets include the California housing dataset (i.e.\n",
      "    :func:`~sklearn.datasets.fetch_california_housing`) and the Ames housing\n",
      "    dataset. You can load the datasets as follows::\n",
      "\n",
      "        from sklearn.datasets import fetch_california_housing\n",
      "        housing = fetch_california_housing()\n",
      "\n",
      "    for the California housing dataset and::\n",
      "\n",
      "        from sklearn.datasets import fetch_openml\n",
      "        housing = fetch_openml(name=\"house_prices\", as_frame=True)\n",
      "\n",
      "    for the Ames housing dataset.\n",
      "    \n",
      "  warnings.warn(msg, category=FutureWarning)\n"
     ]
    }
   ],
   "source": [
    "# Importamos el dataset\n",
    "boston = datasets.load_boston()\n",
    "print(boston)\n",
    "print()\n",
    "\n",
    "# Mostramos la informacion del dataset\n",
    "print('Informacion en el dataset')\n",
    "print(boston.keys())\n",
    "print()\n",
    "\n",
    "# Verificamos la informacion del dataset\n",
    "print('Caracteristicas del dataset')\n",
    "print(boston.DESCR)\n",
    "\n",
    "# Verificamos la cantidad de datos que hay\n",
    "print('Cantidad de datos:')\n",
    "print(boston.data.shape)\n",
    "print()\n",
    "\n",
    "# Verificamos la informacion de las columnas\n",
    "print('Nombres de las columnas:')\n",
    "print(boston.feature_names)"
   ]
  },
  {
   "cell_type": "markdown",
   "id": "2ee2331d",
   "metadata": {},
   "source": [
    "Una vez que comrpobamos que nuestros datos si se pueden trabajar vamos a empezar con la inicializacion de los *vectores de soporte*"
   ]
  },
  {
   "cell_type": "code",
   "execution_count": 6,
   "id": "049f7083",
   "metadata": {},
   "outputs": [
    {
     "data": {
      "image/png": "[encoded data removed]",
      "text/plain": [
       "<Figure size 432x288 with 1 Axes>"
      ]
     },
     "metadata": {
      "needs_background": "light"
     },
     "output_type": "display_data"
    }
   ],
   "source": [
    "# Seleccionamos las columnas con las que vamos a trabjar\n",
    "X_svr = boston.data[:, np.newaxis, 5]\n",
    "\n",
    "# Se define los datos correspondiente a las etiquetas\n",
    "y_svr = boston.target\n",
    "\n",
    "# Graficamos los datos correspondientes\n",
    "plt.scatter(X_svr, y_svr)\n",
    "plt.show()"
   ]
  },
  {
   "cell_type": "markdown",
   "id": "ba4e30aa",
   "metadata": {},
   "source": [
    "### Implementacion de vectores de soporte regresion"
   ]
  },
  {
   "cell_type": "code",
   "execution_count": 10,
   "id": "e604a830",
   "metadata": {},
   "outputs": [
    {
     "data": {
      "image/png": "[encoded data removed]",
      "text/plain": [
       "<Figure size 432x288 with 1 Axes>"
      ]
     },
     "metadata": {
      "needs_background": "light"
     },
     "output_type": "display_data"
    }
   ],
   "source": [
    "# Separamos los datos \"train\" y prueba\n",
    "X_train, X_test, y_train, y_test = train_test_split(X_svr, y_svr, test_size = 0.2)\n",
    "\n",
    "# Definimos el algoritmo a utilizar \n",
    "svr = SVR(kernel = 'linear', C=1.0, epsilon=0.2)\n",
    "\n",
    "# Se entrena el modelo \n",
    "svr.fit(X_train, y_train)\n",
    "\n",
    "# Realizamos una prediccion\n",
    "Y_pred = svr.predict(X_test)\n",
    "\n",
    "# Graficamos los datos junto con el modelo\n",
    "plt.scatter(X_test, y_test)\n",
    "plt.plot(X_test, Y_pred, color='red', linewidth=3)\n",
    "plt.show()"
   ]
  },
  {
   "cell_type": "markdown",
   "id": "0a2fef06",
   "metadata": {},
   "source": [
    "Después de obtener la prediccion la comparamos con la original para  comparar si es un buen modelo\n"
   ]
  },
  {
   "cell_type": "code",
   "execution_count": 14,
   "id": "05597105",
   "metadata": {},
   "outputs": [
    {
     "name": "stdout",
     "output_type": "stream",
     "text": [
      "y_test\t\ty_train\n",
      "50.0 \t 22.046970868192652\n",
      "50.0 \t 40.74407038222445\n",
      "17.8 \t 19.333600347656777\n",
      "7.4 \t 11.121611421262209\n",
      "25.2 \t 22.262602962539994\n",
      "22.0 \t 25.40723767177265\n",
      "19.2 \t 20.294960101620752\n",
      "16.3 \t 12.514235363923106\n",
      "12.7 \t 17.527681557497885\n",
      "20.5 \t 19.75587986575333\n",
      "19.9 \t 22.36143433911657\n",
      "19.5 \t 18.632796041027987\n",
      "11.8 \t 24.230245823459747\n",
      "16.8 \t 20.348868125208078\n",
      "22.3 \t 22.936453257375845\n",
      "50.0 \t 41.4448746888534\n",
      "7.2 \t 13.61036517685433\n",
      "37.2 \t 28.911259204916632\n",
      "10.9 \t 21.9211854798237\n",
      "17.3 \t 18.812489452983513\n",
      "14.5 \t 20.75317830210941\n",
      "35.4 \t 31.32813559572452\n",
      "19.7 \t 19.773849206948746\n",
      "14.1 \t 21.768446079660833\n",
      "25.3 \t 21.62469135009688\n",
      "21.4 \t 22.675897810038542\n",
      "29.6 \t 28.704611781166243\n",
      "21.0 \t 21.121549796619206\n",
      "11.8 \t 10.250098373275321\n",
      "12.7 \t 19.091014241515936\n",
      "13.3 \t 18.82147412358038\n",
      "20.0 \t 22.61300511585427\n",
      "25.0 \t 23.83492031715658\n",
      "20.8 \t 16.943677968639356\n",
      "18.5 \t 22.388388350909764\n",
      "35.4 \t 28.803443157742542\n",
      "13.1 \t 23.52045684623267\n",
      "19.2 \t 24.221261152862482\n",
      "50.0 \t 36.55721388364837\n",
      "30.1 \t 26.647122214269572\n",
      "24.7 \t 23.547410858026446\n",
      "23.0 \t 23.44857948145082\n",
      "23.3 \t 25.550992401336906\n",
      "15.4 \t 24.46384725900306\n",
      "37.3 \t 30.420683865348522\n",
      "25.0 \t 29.639017523338772\n",
      "8.7 \t 21.471951949933718\n",
      "15.0 \t 17.923007063800682\n",
      "17.1 \t 23.75405828177668\n",
      "28.6 \t 26.19788868437938\n",
      "33.2 \t 31.489859666485188\n",
      "20.1 \t 20.95982572585875\n",
      "24.3 \t 19.935573277709288\n",
      "23.2 \t 24.03258307030771\n",
      "26.4 \t 24.55369396498059\n",
      "19.4 \t 18.192547181735385\n",
      "19.4 \t 17.49174287510604\n",
      "21.0 \t 26.161950001987556\n",
      "19.8 \t 21.400074585151792\n",
      "30.7 \t 29.21673800524158\n",
      "23.2 \t 21.984078174009234\n",
      "26.6 \t 27.024478379376177\n",
      "28.0 \t 26.638137543671107\n",
      "32.9 \t 30.30388314757603\n",
      "18.2 \t 20.968810396456725\n",
      "18.7 \t 17.779252334235714\n",
      "10.2 \t 18.64178071162503\n",
      "20.1 \t 17.527681557497885\n",
      "9.7 \t 11.445059562784152\n",
      "18.7 \t 19.818772559937386\n",
      "41.7 \t 41.10345720613664\n",
      "25.0 \t 21.741492067867817\n",
      "14.8 \t 20.52856153716423\n",
      "19.8 \t 24.36501588242632\n",
      "10.4 \t 28.803443157742542\n",
      "30.1 \t 25.65880844851094\n",
      "20.5 \t 22.13681757417077\n",
      "28.1 \t 23.47553349324439\n",
      "28.4 \t 25.721701142694855\n",
      "30.8 \t 25.452161024760613\n",
      "20.1 \t 22.172756256562565\n",
      "19.8 \t 18.147623828746482\n",
      "20.4 \t 19.64806381857892\n",
      "22.8 \t 26.530321496498345\n",
      "17.8 \t 32.62192816180924\n",
      "24.5 \t 25.811547848673726\n",
      "24.7 \t 22.002047515204325\n",
      "8.5 \t 17.833160357822948\n",
      "14.4 \t 14.70649498978652\n",
      "8.1 \t 11.957185786858403\n",
      "29.1 \t 25.533023060142547\n",
      "43.5 \t 33.313747797841216\n",
      "17.8 \t 12.792760152454413\n",
      "32.2 \t 29.881603629479407\n",
      "18.6 \t 23.74507361117859\n",
      "48.3 \t 40.29483685233437\n",
      "24.1 \t 25.308406295196228\n",
      "21.7 \t 20.187144054447778\n",
      "32.4 \t 26.916662332204268\n",
      "22.1 \t 21.202411832000315\n",
      "18.7 \t 20.93287171406569\n",
      "23.2 \t 20.285975431023836\n"
     ]
    }
   ],
   "source": [
    "print('y_test\\t\\ty_train')\n",
    "for i in range(len(y_test)):\n",
    "    print(y_test[i],'\\t', Y_pred[i])"
   ]
  },
  {
   "cell_type": "markdown",
   "id": "efeee64b",
   "metadata": {},
   "source": [
    "Obtenemos la presicion del modelo\n"
   ]
  },
  {
   "cell_type": "code",
   "execution_count": 16,
   "id": "c93478e5",
   "metadata": {},
   "outputs": [
    {
     "name": "stdout",
     "output_type": "stream",
     "text": [
      "\n",
      "DATOS DEL MODELO VECTORES DE SOPORTE REGRESIÓN\n",
      "\n",
      "Precisión del modelo:\n",
      "0.45047828235949905\n"
     ]
    }
   ],
   "source": [
    "print()\n",
    "print('DATOS DEL MODELO VECTORES DE SOPORTE REGRESIÓN')\n",
    "print()\n",
    "\n",
    "print('Precisión del modelo:')\n",
    "print(svr.score(X_train, y_train))"
   ]
  },
  {
   "cell_type": "markdown",
   "id": "e70e6b57",
   "metadata": {},
   "source": [
    "Vamos a pasar otra vuelta pero dejando los valores por defecto"
   ]
  },
  {
   "cell_type": "code",
   "execution_count": 21,
   "id": "85c1d05c",
   "metadata": {
    "scrolled": true
   },
   "outputs": [
    {
     "data": {
      "image/png": "[encoded data removed]",
      "text/plain": [
       "<Figure size 432x288 with 1 Axes>"
      ]
     },
     "metadata": {
      "needs_background": "light"
     },
     "output_type": "display_data"
    }
   ],
   "source": [
    "# Separamos los datos \"train\" y prueba\n",
    "X_train2, X_test2, y_train2, y_test2 = train_test_split(X_svr, y_svr, test_size = 0.2)\n",
    "\n",
    "# Definimos el algoritmo a utilizar \n",
    "svr2 = SVR()\n",
    "\n",
    "# Se entrena el modelo \n",
    "svr2.fit(X_train2, y_train2)\n",
    "\n",
    "# Realizamos una prediccion\n",
    "Y_pred2 = svr.predict(X_test2)\n",
    "\n",
    "# Graficamos los datos junto con el modelo\n",
    "plt.scatter(X_test2, y_test2)\n",
    "plt.plot(X_test2, Y_pred2, color='red', linewidth=3)\n",
    "plt.show()"
   ]
  },
  {
   "cell_type": "markdown",
   "id": "d39a4390",
   "metadata": {},
   "source": [
    "Después de obtener la prediccion la comparamos con la original para  comparar si es un buen modelo"
   ]
  },
  {
   "cell_type": "code",
   "execution_count": 22,
   "id": "6c7945b8",
   "metadata": {
    "scrolled": true
   },
   "outputs": [
    {
     "name": "stdout",
     "output_type": "stream",
     "text": [
      "y_test\t\ty_train\n",
      "14.9 \t 21.65667429008303\n",
      "31.1 \t 27.404133686580778\n",
      "50.0 \t 40.471594190000744\n",
      "21.4 \t 20.93771406207037\n",
      "30.1 \t 26.26092844578539\n",
      "28.7 \t 24.976286859818096\n",
      "22.3 \t 22.15906439704773\n",
      "17.3 \t 19.288124922112846\n",
      "13.5 \t 20.32183377703288\n",
      "22.6 \t 20.38788560599751\n",
      "25.0 \t 23.276573684215407\n",
      "22.5 \t 19.997352851433934\n",
      "20.1 \t 19.867445137725372\n",
      "15.7 \t 17.736931993883964\n",
      "20.4 \t 19.368864815721842\n",
      "16.2 \t 18.308966754629488\n",
      "14.9 \t 21.372003671603412\n",
      "13.6 \t 17.41505933615204\n",
      "24.7 \t 20.842609472814008\n",
      "17.1 \t 22.195036951457652\n",
      "8.3 \t 15.831199767630487\n",
      "17.4 \t 19.383715126051438\n",
      "24.3 \t 19.859195648786773\n",
      "45.4 \t 40.17134713747959\n",
      "13.8 \t 20.670399057824458\n",
      "27.5 \t 28.252033908447878\n",
      "23.8 \t 22.380630963082673\n",
      "11.3 \t 17.15775737284745\n",
      "50.0 \t 14.859510543757143\n",
      "5.0 \t 18.240093959587142\n",
      "25.0 \t 20.698729074215784\n",
      "26.4 \t 23.09475736827713\n",
      "22.4 \t 24.299140799801755\n",
      "20.1 \t 20.943139665428866\n",
      "19.3 \t 18.56225975993879\n",
      "24.0 \t 20.28113785601568\n",
      "24.7 \t 21.993361305895583\n",
      "21.7 \t 19.45185123534428\n",
      "37.2 \t 30.35389299578972\n",
      "19.7 \t 16.09597109154167\n",
      "35.1 \t 27.598623715009587\n",
      "38.7 \t 40.34363144036773\n",
      "23.1 \t 23.33461865442552\n",
      "24.4 \t 23.00611359560349\n",
      "22.6 \t 22.295928371241917\n",
      "34.9 \t 33.54610601334082\n",
      "18.9 \t 19.953077317492763\n",
      "33.1 \t 30.386437520518815\n",
      "48.5 \t 40.3006536144003\n",
      "18.1 \t 21.611802531305315\n",
      "44.8 \t 39.12459760501327\n",
      "18.9 \t 19.65446060924163\n",
      "30.8 \t 24.325874654562973\n",
      "22.0 \t 27.307227227230285\n",
      "50.0 \t 38.00378311711296\n",
      "43.1 \t 37.829355224728126\n",
      "33.4 \t 30.646112280419985\n",
      "23.9 \t 24.65281878214995\n",
      "20.6 \t 19.36389475218534\n",
      "16.2 \t 18.3904364986237\n",
      "50.0 \t 40.36983261087993\n",
      "12.6 \t 21.06075825547102\n",
      "23.2 \t 22.48680115465976\n",
      "21.7 \t 20.761894401833136\n",
      "13.1 \t 15.400377414161671\n",
      "33.8 \t 33.80867409834563\n",
      "22.0 \t 22.1860081416484\n",
      "19.0 \t 19.73722451975466\n",
      "23.3 \t 20.529134145534783\n",
      "21.9 \t 32.605973742142126\n",
      "18.9 \t 19.973242582942536\n",
      "14.2 \t 19.96115208829925\n",
      "10.4 \t 15.567692500754786\n",
      "23.1 \t 17.430151711735327\n",
      "22.2 \t 22.67705540624922\n",
      "15.6 \t 19.61433337599251\n",
      "37.6 \t 40.42270562164725\n",
      "50.0 \t 30.936641971499437\n",
      "20.6 \t 19.527461850030406\n",
      "13.6 \t 19.867445137725372\n",
      "19.6 \t 19.627778977811097\n",
      "23.8 \t 19.393565733187636\n",
      "18.4 \t 19.107603454079385\n",
      "10.4 \t 30.158266051589788\n",
      "19.6 \t 16.19094756359425\n",
      "39.8 \t 39.8910725829468\n",
      "42.3 \t 38.720711131309166\n",
      "36.2 \t 32.98121795388303\n",
      "24.4 \t 23.59684856209228\n",
      "6.3 \t 19.26752714107816\n",
      "15.4 \t 22.9841901523089\n",
      "29.9 \t 28.383395549968018\n",
      "29.6 \t 20.56466238805584\n",
      "46.0 \t 39.02883745390636\n",
      "13.3 \t 27.307227227230285\n",
      "11.0 \t 20.752041004291762\n",
      "14.5 \t 19.057716788981786\n",
      "16.3 \t 14.95606712586127\n",
      "20.8 \t 15.912822938594914\n",
      "18.7 \t 20.305508129344343\n",
      "24.4 \t 20.19271466592219\n",
      "19.3 \t 16.19094756359425\n"
     ]
    }
   ],
   "source": [
    "print('y_test\\t\\ty_train')\n",
    "for i in range(len(y_test2)):\n",
    "    print(y_test2[i],'\\t', Y_pred2[i])"
   ]
  },
  {
   "cell_type": "code",
   "execution_count": 24,
   "id": "6f6e63b0",
   "metadata": {},
   "outputs": [
    {
     "name": "stdout",
     "output_type": "stream",
     "text": [
      "\n",
      "DATOS DEL MODELO VECTORES DE SOPORTE REGRESIÓN\n",
      "\n",
      "Precisión del modelo:\n",
      "0.531297068003824\n"
     ]
    }
   ],
   "source": [
    "print()\n",
    "print('DATOS DEL MODELO VECTORES DE SOPORTE REGRESIÓN')\n",
    "print()\n",
    "\n",
    "print('Precisión del modelo:')\n",
    "print(svr.score(X_train2, y_train2))"
   ]
  },
  {
   "cell_type": "markdown",
   "id": "70004332",
   "metadata": {},
   "source": [
    "Con esta segunda vuelta pudimos obtener una mejor predicción pero no se sigue ajustando muy bien a nuestros datos"
   ]
  }
 ],
 "metadata": {
  "kernelspec": {
   "display_name": "Python 3 (ipykernel)",
   "language": "python",
   "name": "python3"
  },
  "language_info": {
   "codemirror_mode": {
    "name": "ipython",
    "version": 3
   },
   "file_extension": ".py",
   "mimetype": "text/x-python",
   "name": "python",
   "nbconvert_exporter": "python",
   "pygments_lexer": "ipython3",
   "version": "3.9.12"
  }
 },
 "nbformat": 4,
 "nbformat_minor": 5
}
