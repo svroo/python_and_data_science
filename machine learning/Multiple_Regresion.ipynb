{
 "cells": [
  {
   "cell_type": "markdown",
   "id": "a0e7f11b",
   "metadata": {},
   "source": [
    "### Regresión Lineal Multiple\n",
    "\n",
    "Create by: Rodrigo Salazar"
   ]
  },
  {
   "cell_type": "code",
   "execution_count": 12,
   "id": "efbc135e",
   "metadata": {},
   "outputs": [],
   "source": [
    "from sklearn import datasets, linear_model\n",
    "from sklearn.model_selection import train_test_split\n",
    "import tabulate"
   ]
  },
  {
   "cell_type": "markdown",
   "id": "fd652878",
   "metadata": {},
   "source": [
    "Después de cargar las librerias que vamos a ocupar vamos a ser una pequeña inspeccion del data set elejido:"
   ]
  },
  {
   "cell_type": "code",
   "execution_count": 5,
   "id": "577530f8",
   "metadata": {},
   "outputs": [
    {
     "name": "stdout",
     "output_type": "stream",
     "text": [
      "{'data': array([[6.3200e-03, 1.8000e+01, 2.3100e+00, ..., 1.5300e+01, 3.9690e+02,\n",
      "        4.9800e+00],\n",
      "       [2.7310e-02, 0.0000e+00, 7.0700e+00, ..., 1.7800e+01, 3.9690e+02,\n",
      "        9.1400e+00],\n",
      "       [2.7290e-02, 0.0000e+00, 7.0700e+00, ..., 1.7800e+01, 3.9283e+02,\n",
      "        4.0300e+00],\n",
      "       ...,\n",
      "       [6.0760e-02, 0.0000e+00, 1.1930e+01, ..., 2.1000e+01, 3.9690e+02,\n",
      "        5.6400e+00],\n",
      "       [1.0959e-01, 0.0000e+00, 1.1930e+01, ..., 2.1000e+01, 3.9345e+02,\n",
      "        6.4800e+00],\n",
      "       [4.7410e-02, 0.0000e+00, 1.1930e+01, ..., 2.1000e+01, 3.9690e+02,\n",
      "        7.8800e+00]]), 'target': array([24. , 21.6, 34.7, 33.4, 36.2, 28.7, 22.9, 27.1, 16.5, 18.9, 15. ,\n",
      "       18.9, 21.7, 20.4, 18.2, 19.9, 23.1, 17.5, 20.2, 18.2, 13.6, 19.6,\n",
      "       15.2, 14.5, 15.6, 13.9, 16.6, 14.8, 18.4, 21. , 12.7, 14.5, 13.2,\n",
      "       13.1, 13.5, 18.9, 20. , 21. , 24.7, 30.8, 34.9, 26.6, 25.3, 24.7,\n",
      "       21.2, 19.3, 20. , 16.6, 14.4, 19.4, 19.7, 20.5, 25. , 23.4, 18.9,\n",
      "       35.4, 24.7, 31.6, 23.3, 19.6, 18.7, 16. , 22.2, 25. , 33. , 23.5,\n",
      "       19.4, 22. , 17.4, 20.9, 24.2, 21.7, 22.8, 23.4, 24.1, 21.4, 20. ,\n",
      "       20.8, 21.2, 20.3, 28. , 23.9, 24.8, 22.9, 23.9, 26.6, 22.5, 22.2,\n",
      "       23.6, 28.7, 22.6, 22. , 22.9, 25. , 20.6, 28.4, 21.4, 38.7, 43.8,\n",
      "       33.2, 27.5, 26.5, 18.6, 19.3, 20.1, 19.5, 19.5, 20.4, 19.8, 19.4,\n",
      "       21.7, 22.8, 18.8, 18.7, 18.5, 18.3, 21.2, 19.2, 20.4, 19.3, 22. ,\n",
      "       20.3, 20.5, 17.3, 18.8, 21.4, 15.7, 16.2, 18. , 14.3, 19.2, 19.6,\n",
      "       23. , 18.4, 15.6, 18.1, 17.4, 17.1, 13.3, 17.8, 14. , 14.4, 13.4,\n",
      "       15.6, 11.8, 13.8, 15.6, 14.6, 17.8, 15.4, 21.5, 19.6, 15.3, 19.4,\n",
      "       17. , 15.6, 13.1, 41.3, 24.3, 23.3, 27. , 50. , 50. , 50. , 22.7,\n",
      "       25. , 50. , 23.8, 23.8, 22.3, 17.4, 19.1, 23.1, 23.6, 22.6, 29.4,\n",
      "       23.2, 24.6, 29.9, 37.2, 39.8, 36.2, 37.9, 32.5, 26.4, 29.6, 50. ,\n",
      "       32. , 29.8, 34.9, 37. , 30.5, 36.4, 31.1, 29.1, 50. , 33.3, 30.3,\n",
      "       34.6, 34.9, 32.9, 24.1, 42.3, 48.5, 50. , 22.6, 24.4, 22.5, 24.4,\n",
      "       20. , 21.7, 19.3, 22.4, 28.1, 23.7, 25. , 23.3, 28.7, 21.5, 23. ,\n",
      "       26.7, 21.7, 27.5, 30.1, 44.8, 50. , 37.6, 31.6, 46.7, 31.5, 24.3,\n",
      "       31.7, 41.7, 48.3, 29. , 24. , 25.1, 31.5, 23.7, 23.3, 22. , 20.1,\n",
      "       22.2, 23.7, 17.6, 18.5, 24.3, 20.5, 24.5, 26.2, 24.4, 24.8, 29.6,\n",
      "       42.8, 21.9, 20.9, 44. , 50. , 36. , 30.1, 33.8, 43.1, 48.8, 31. ,\n",
      "       36.5, 22.8, 30.7, 50. , 43.5, 20.7, 21.1, 25.2, 24.4, 35.2, 32.4,\n",
      "       32. , 33.2, 33.1, 29.1, 35.1, 45.4, 35.4, 46. , 50. , 32.2, 22. ,\n",
      "       20.1, 23.2, 22.3, 24.8, 28.5, 37.3, 27.9, 23.9, 21.7, 28.6, 27.1,\n",
      "       20.3, 22.5, 29. , 24.8, 22. , 26.4, 33.1, 36.1, 28.4, 33.4, 28.2,\n",
      "       22.8, 20.3, 16.1, 22.1, 19.4, 21.6, 23.8, 16.2, 17.8, 19.8, 23.1,\n",
      "       21. , 23.8, 23.1, 20.4, 18.5, 25. , 24.6, 23. , 22.2, 19.3, 22.6,\n",
      "       19.8, 17.1, 19.4, 22.2, 20.7, 21.1, 19.5, 18.5, 20.6, 19. , 18.7,\n",
      "       32.7, 16.5, 23.9, 31.2, 17.5, 17.2, 23.1, 24.5, 26.6, 22.9, 24.1,\n",
      "       18.6, 30.1, 18.2, 20.6, 17.8, 21.7, 22.7, 22.6, 25. , 19.9, 20.8,\n",
      "       16.8, 21.9, 27.5, 21.9, 23.1, 50. , 50. , 50. , 50. , 50. , 13.8,\n",
      "       13.8, 15. , 13.9, 13.3, 13.1, 10.2, 10.4, 10.9, 11.3, 12.3,  8.8,\n",
      "        7.2, 10.5,  7.4, 10.2, 11.5, 15.1, 23.2,  9.7, 13.8, 12.7, 13.1,\n",
      "       12.5,  8.5,  5. ,  6.3,  5.6,  7.2, 12.1,  8.3,  8.5,  5. , 11.9,\n",
      "       27.9, 17.2, 27.5, 15. , 17.2, 17.9, 16.3,  7. ,  7.2,  7.5, 10.4,\n",
      "        8.8,  8.4, 16.7, 14.2, 20.8, 13.4, 11.7,  8.3, 10.2, 10.9, 11. ,\n",
      "        9.5, 14.5, 14.1, 16.1, 14.3, 11.7, 13.4,  9.6,  8.7,  8.4, 12.8,\n",
      "       10.5, 17.1, 18.4, 15.4, 10.8, 11.8, 14.9, 12.6, 14.1, 13. , 13.4,\n",
      "       15.2, 16.1, 17.8, 14.9, 14.1, 12.7, 13.5, 14.9, 20. , 16.4, 17.7,\n",
      "       19.5, 20.2, 21.4, 19.9, 19. , 19.1, 19.1, 20.1, 19.9, 19.6, 23.2,\n",
      "       29.8, 13.8, 13.3, 16.7, 12. , 14.6, 21.4, 23. , 23.7, 25. , 21.8,\n",
      "       20.6, 21.2, 19.1, 20.6, 15.2,  7. ,  8.1, 13.6, 20.1, 21.8, 24.5,\n",
      "       23.1, 19.7, 18.3, 21.2, 17.5, 16.8, 22.4, 20.6, 23.9, 22. , 11.9]), 'feature_names': array(['CRIM', 'ZN', 'INDUS', 'CHAS', 'NOX', 'RM', 'AGE', 'DIS', 'RAD',\n",
      "       'TAX', 'PTRATIO', 'B', 'LSTAT'], dtype='<U7'), 'DESCR': \".. _boston_dataset:\\n\\nBoston house prices dataset\\n---------------------------\\n\\n**Data Set Characteristics:**  \\n\\n    :Number of Instances: 506 \\n\\n    :Number of Attributes: 13 numeric/categorical predictive. Median Value (attribute 14) is usually the target.\\n\\n    :Attribute Information (in order):\\n        - CRIM     per capita crime rate by town\\n        - ZN       proportion of residential land zoned for lots over 25,000 sq.ft.\\n        - INDUS    proportion of non-retail business acres per town\\n        - CHAS     Charles River dummy variable (= 1 if tract bounds river; 0 otherwise)\\n        - NOX      nitric oxides concentration (parts per 10 million)\\n        - RM       average number of rooms per dwelling\\n        - AGE      proportion of owner-occupied units built prior to 1940\\n        - DIS      weighted distances to five Boston employment centres\\n        - RAD      index of accessibility to radial highways\\n        - TAX      full-value property-tax rate per $10,000\\n        - PTRATIO  pupil-teacher ratio by town\\n        - B        1000(Bk - 0.63)^2 where Bk is the proportion of black people by town\\n        - LSTAT    % lower status of the population\\n        - MEDV     Median value of owner-occupied homes in $1000's\\n\\n    :Missing Attribute Values: None\\n\\n    :Creator: Harrison, D. and Rubinfeld, D.L.\\n\\nThis is a copy of UCI ML housing dataset.\\nhttps://archive.ics.uci.edu/ml/machine-learning-databases/housing/\\n\\n\\nThis dataset was taken from the StatLib library which is maintained at Carnegie Mellon University.\\n\\nThe Boston house-price data of Harrison, D. and Rubinfeld, D.L. 'Hedonic\\nprices and the demand for clean air', J. Environ. Economics & Management,\\nvol.5, 81-102, 1978.   Used in Belsley, Kuh & Welsch, 'Regression diagnostics\\n...', Wiley, 1980.   N.B. Various transformations are used in the table on\\npages 244-261 of the latter.\\n\\nThe Boston house-price data has been used in many machine learning papers that address regression\\nproblems.   \\n     \\n.. topic:: References\\n\\n   - Belsley, Kuh & Welsch, 'Regression diagnostics: Identifying Influential Data and Sources of Collinearity', Wiley, 1980. 244-261.\\n   - Quinlan,R. (1993). Combining Instance-Based and Model-Based Learning. In Proceedings on the Tenth International Conference of Machine Learning, 236-243, University of Massachusetts, Amherst. Morgan Kaufmann.\\n\", 'filename': 'boston_house_prices.csv', 'data_module': 'sklearn.datasets.data'}\n"
     ]
    }
   ],
   "source": [
    "# Cargamos el data set\n",
    "boston = datasets.load_boston()\n",
    "print(boston)"
   ]
  },
  {
   "cell_type": "markdown",
   "id": "fe91270d",
   "metadata": {},
   "source": [
    "Para preparar los datos vamos solo a seleccionar la columna 5, 6 y 7 del data set."
   ]
  },
  {
   "cell_type": "code",
   "execution_count": 7,
   "id": "4dbd470c",
   "metadata": {},
   "outputs": [
    {
     "name": "stdout",
     "output_type": "stream",
     "text": [
      "[[ 6.575  65.2     4.09  ]\n",
      " [ 6.421  78.9     4.9671]\n",
      " [ 7.185  61.1     4.9671]\n",
      " ...\n",
      " [ 6.976  91.      2.1675]\n",
      " [ 6.794  89.3     2.3889]\n",
      " [ 6.03   80.8     2.505 ]]\n"
     ]
    }
   ],
   "source": [
    "# Seleccionamos las columnas 5, 6 y 7 del data set\n",
    "X_multiple = boston.data[:, 5:8]\n",
    "print(X_multiple)\n",
    "\n",
    "# Se definen los datos correspondientes a las etiquetas\n",
    "y_multiple = boston.target"
   ]
  },
  {
   "cell_type": "markdown",
   "id": "c910b329",
   "metadata": {},
   "source": [
    "#### Implementacion de regresión lineal multiple\n",
    "\n",
    "Una vez seleccionada los datos procedemos a seleccionar los datos que son de entrenamiento y de prueba"
   ]
  },
  {
   "cell_type": "code",
   "execution_count": 24,
   "id": "ced07950",
   "metadata": {},
   "outputs": [
    {
     "name": "stdout",
     "output_type": "stream",
     "text": [
      "\tYPred \t\tYTest\n",
      "26.62067745338292 \t 28.4\n",
      "19.909501864216114 \t 10.2\n",
      "36.977824640282435 \t 38.7\n",
      "20.942074365162053 \t 23.0\n",
      "21.57504525165145 \t 14.9\n",
      "26.394105354108714 \t 26.6\n",
      "23.29180619205194 \t 15.2\n",
      "10.782001969942574 \t 16.3\n",
      "6.585425205902535 \t 10.5\n",
      "24.156162535430806 \t 24.7\n",
      "22.78061862308191 \t 24.5\n",
      "17.052347102746257 \t 18.9\n",
      "28.82368586903286 \t 36.5\n",
      "29.3752715794586 \t 17.8\n",
      "5.371041789490956 \t 7.0\n",
      "21.831649229626283 \t 17.7\n",
      "23.558665277838703 \t 23.2\n",
      "23.462731777188306 \t 20.8\n",
      "24.271320402942894 \t 22.8\n",
      "30.800219973956725 \t 35.4\n",
      "23.219188598217197 \t 23.1\n",
      "19.96959492403386 \t 20.1\n",
      "40.32687083841613 \t 50.0\n",
      "17.138621732174055 \t 22.7\n",
      "14.008361811452165 \t 11.3\n",
      "35.838671456260286 \t 35.2\n",
      "26.40224903480048 \t 23.1\n",
      "23.30544409366914 \t 20.6\n",
      "22.070551470970766 \t 14.5\n",
      "22.158518619934863 \t 23.3\n",
      "21.911830153351477 \t 20.4\n",
      "-0.10754970652776663 \t 23.1\n",
      "19.927380130812875 \t 20.4\n",
      "15.648653589325722 \t 15.1\n",
      "28.189234130198894 \t 24.4\n",
      "23.44950578059719 \t 22.3\n",
      "21.95745730941564 \t 20.3\n",
      "19.84309052098278 \t 19.3\n",
      "19.273996711591227 \t 13.3\n",
      "31.27942536124213 \t 50.0\n",
      "25.339821523632043 \t 22.8\n",
      "27.4823957743161 \t 22.6\n",
      "25.654489744829068 \t 30.1\n",
      "23.67568997888647 \t 28.7\n",
      "21.42399502441503 \t 17.1\n",
      "22.313410003548345 \t 18.6\n",
      "31.034671200584793 \t 32.7\n",
      "22.34183906954755 \t 22.2\n",
      "20.698145609693636 \t 19.7\n",
      "16.60109744896067 \t 16.2\n",
      "20.21993025932728 \t 13.8\n",
      "19.17061245118501 \t 20.4\n",
      "22.72739411018249 \t 20.2\n",
      "11.316559562903993 \t 14.4\n",
      "25.5950965458424 \t 24.4\n",
      "24.62516967118626 \t 22.2\n",
      "15.21527124327368 \t 14.3\n",
      "42.094078370051804 \t 50.0\n",
      "22.525319931593263 \t 36.2\n",
      "15.95589571398747 \t 15.0\n",
      "23.8518336579716 \t 24.5\n",
      "21.836737101758164 \t 19.8\n",
      "22.49248305659702 \t 24.6\n",
      "19.38205080715038 \t 17.8\n",
      "34.41501104843384 \t 50.0\n",
      "27.727910577953114 \t 29.1\n",
      "17.736438455603047 \t 16.6\n",
      "21.32159752138998 \t 12.1\n",
      "27.728668441559943 \t 24.8\n",
      "20.260569974423294 \t 20.4\n",
      "29.374454337290654 \t 15.0\n",
      "23.336431107500378 \t 20.1\n",
      "20.783965934080886 \t 23.8\n",
      "23.308392422323006 \t 22.0\n",
      "24.214359684300813 \t 13.9\n",
      "19.221871909588682 \t 20.1\n",
      "23.66717327057167 \t 21.7\n",
      "10.352102786446178 \t 8.1\n",
      "23.546938201821508 \t 13.4\n",
      "21.544874233305666 \t 20.9\n",
      "18.14667565376077 \t 50.0\n",
      "16.896358820196664 \t 10.8\n",
      "21.731287245022767 \t 20.0\n",
      "20.04191673993073 \t 24.3\n",
      "22.44305384493703 \t 24.3\n",
      "24.046171033554227 \t 19.8\n",
      "25.98470790192088 \t 25.0\n",
      "20.75097955764458 \t 23.3\n",
      "24.204715009138642 \t 22.6\n",
      "23.63772689288935 \t 19.4\n",
      "27.188329502067408 \t 29.9\n",
      "29.238977862741354 \t 24.2\n",
      "16.813596879644383 \t 19.1\n",
      "26.033144864494385 \t 41.3\n",
      "14.638769172107633 \t 18.5\n",
      "21.394782240852013 \t 24.4\n",
      "17.023283077556787 \t 11.7\n",
      "29.512775115026923 \t 32.0\n",
      "21.719980501471955 \t 12.5\n",
      "24.271694478382333 \t 21.7\n",
      "21.951065898410814 \t 21.0\n",
      "19.871706031108612 \t 23.2\n"
     ]
    }
   ],
   "source": [
    "# Separacion de datos en \"train\" y \"test\"\n",
    "X_train, X_test, y_train, y_test = train_test_split(X_multiple, y_multiple, test_size = 0.2)\n",
    "\n",
    "# Definimor el algoritmo a utilizar\n",
    "lr_multiple = linear_model.LinearRegression()\n",
    "\n",
    "# Entrenamos el modelo\n",
    "lr_multiple.fit(X_train, y_train)\n",
    "\n",
    "# Se realiza una predicción\n",
    "Y_pred_mult = lr_multiple.predict(X_test)\n",
    "\n",
    "# Verificamos la prediccion y el dato original.\n",
    "print(\"\\tYPred \\t\\tYTest\")\n",
    "for i in range(len(Y_pred_mult)):\n",
    "    print(Y_pred_mult[i], '\\t', y_test[i])"
   ]
  },
  {
   "cell_type": "markdown",
   "id": "baa9907d",
   "metadata": {},
   "source": [
    "Como se puede apresiar en algunos datos la prediccion es cercana al dato real, pero no muy exacta.\n",
    "\n",
    "De momento vamos a obtener la formula de la regresion multiple"
   ]
  },
  {
   "cell_type": "code",
   "execution_count": 28,
   "id": "54276844",
   "metadata": {},
   "outputs": [
    {
     "name": "stdout",
     "output_type": "stream",
     "text": [
      "\t\tDATOS DEL MODELO REGRESION LINELA MULTIPLE\n",
      "\n",
      "Valor de la intersección o coeficiente \"b\":\n",
      "\t\t [ 8.45705534 -0.10191433 -0.46908406]\n",
      "Valor de la interseccion o coeficiente \"b\":\n",
      "\t\t -21.87712354515941\n",
      "Precisión del modelo:\n",
      "\t\t 0.5553467121979552\n"
     ]
    }
   ],
   "source": [
    "print('\\t\\tDATOS DEL MODELO REGRESION LINELA MULTIPLE')\n",
    "print()\n",
    "\n",
    "print('Valor de la intersección o coeficiente \"b\":\\n\\t\\t' , lr_multiple.coef_)\n",
    "\n",
    "print('Valor de la interseccion o coeficiente \"b\":\\n\\t\\t', lr_multiple.intercept_)\n",
    "\n",
    "print(\"Precisión del modelo:\\n\\t\\t\", lr_multiple.score(X_train, y_train))"
   ]
  }
 ],
 "metadata": {
  "kernelspec": {
   "display_name": "Python 3 (ipykernel)",
   "language": "python",
   "name": "python3"
  },
  "language_info": {
   "codemirror_mode": {
    "name": "ipython",
    "version": 3
   },
   "file_extension": ".py",
   "mimetype": "text/x-python",
   "name": "python",
   "nbconvert_exporter": "python",
   "pygments_lexer": "ipython3",
   "version": "3.9.13"
  }
 },
 "nbformat": 4,
 "nbformat_minor": 5
}
