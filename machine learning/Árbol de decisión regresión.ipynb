{
 "cells": [
  {
   "cell_type": "markdown",
   "id": "62b7be95",
   "metadata": {},
   "source": [
    "### Arboles de decisión\n",
    "\n",
    "Creado por: Rodrigo Salazar"
   ]
  },
  {
   "cell_type": "code",
   "execution_count": 1,
   "id": "b3925014",
   "metadata": {},
   "outputs": [],
   "source": [
    "# Importación de librerias\n",
    "import numpy as np\n",
    "import matplotlib.pyplot as plt\n",
    "from sklearn import datasets\n",
    "from sklearn.model_selection import train_test_split"
   ]
  },
  {
   "cell_type": "markdown",
   "id": "1a3e8b28",
   "metadata": {},
   "source": [
    "Preparamos la data para ver si se puede trabajar con ella"
   ]
  },
  {
   "cell_type": "code",
   "execution_count": 2,
   "id": "2d237120",
   "metadata": {},
   "outputs": [
    {
     "name": "stdout",
     "output_type": "stream",
     "text": [
      "{'data': array([[6.3200e-03, 1.8000e+01, 2.3100e+00, ..., 1.5300e+01, 3.9690e+02,\n",
      "        4.9800e+00],\n",
      "       [2.7310e-02, 0.0000e+00, 7.0700e+00, ..., 1.7800e+01, 3.9690e+02,\n",
      "        9.1400e+00],\n",
      "       [2.7290e-02, 0.0000e+00, 7.0700e+00, ..., 1.7800e+01, 3.9283e+02,\n",
      "        4.0300e+00],\n",
      "       ...,\n",
      "       [6.0760e-02, 0.0000e+00, 1.1930e+01, ..., 2.1000e+01, 3.9690e+02,\n",
      "        5.6400e+00],\n",
      "       [1.0959e-01, 0.0000e+00, 1.1930e+01, ..., 2.1000e+01, 3.9345e+02,\n",
      "        6.4800e+00],\n",
      "       [4.7410e-02, 0.0000e+00, 1.1930e+01, ..., 2.1000e+01, 3.9690e+02,\n",
      "        7.8800e+00]]), 'target': array([24. , 21.6, 34.7, 33.4, 36.2, 28.7, 22.9, 27.1, 16.5, 18.9, 15. ,\n",
      "       18.9, 21.7, 20.4, 18.2, 19.9, 23.1, 17.5, 20.2, 18.2, 13.6, 19.6,\n",
      "       15.2, 14.5, 15.6, 13.9, 16.6, 14.8, 18.4, 21. , 12.7, 14.5, 13.2,\n",
      "       13.1, 13.5, 18.9, 20. , 21. , 24.7, 30.8, 34.9, 26.6, 25.3, 24.7,\n",
      "       21.2, 19.3, 20. , 16.6, 14.4, 19.4, 19.7, 20.5, 25. , 23.4, 18.9,\n",
      "       35.4, 24.7, 31.6, 23.3, 19.6, 18.7, 16. , 22.2, 25. , 33. , 23.5,\n",
      "       19.4, 22. , 17.4, 20.9, 24.2, 21.7, 22.8, 23.4, 24.1, 21.4, 20. ,\n",
      "       20.8, 21.2, 20.3, 28. , 23.9, 24.8, 22.9, 23.9, 26.6, 22.5, 22.2,\n",
      "       23.6, 28.7, 22.6, 22. , 22.9, 25. , 20.6, 28.4, 21.4, 38.7, 43.8,\n",
      "       33.2, 27.5, 26.5, 18.6, 19.3, 20.1, 19.5, 19.5, 20.4, 19.8, 19.4,\n",
      "       21.7, 22.8, 18.8, 18.7, 18.5, 18.3, 21.2, 19.2, 20.4, 19.3, 22. ,\n",
      "       20.3, 20.5, 17.3, 18.8, 21.4, 15.7, 16.2, 18. , 14.3, 19.2, 19.6,\n",
      "       23. , 18.4, 15.6, 18.1, 17.4, 17.1, 13.3, 17.8, 14. , 14.4, 13.4,\n",
      "       15.6, 11.8, 13.8, 15.6, 14.6, 17.8, 15.4, 21.5, 19.6, 15.3, 19.4,\n",
      "       17. , 15.6, 13.1, 41.3, 24.3, 23.3, 27. , 50. , 50. , 50. , 22.7,\n",
      "       25. , 50. , 23.8, 23.8, 22.3, 17.4, 19.1, 23.1, 23.6, 22.6, 29.4,\n",
      "       23.2, 24.6, 29.9, 37.2, 39.8, 36.2, 37.9, 32.5, 26.4, 29.6, 50. ,\n",
      "       32. , 29.8, 34.9, 37. , 30.5, 36.4, 31.1, 29.1, 50. , 33.3, 30.3,\n",
      "       34.6, 34.9, 32.9, 24.1, 42.3, 48.5, 50. , 22.6, 24.4, 22.5, 24.4,\n",
      "       20. , 21.7, 19.3, 22.4, 28.1, 23.7, 25. , 23.3, 28.7, 21.5, 23. ,\n",
      "       26.7, 21.7, 27.5, 30.1, 44.8, 50. , 37.6, 31.6, 46.7, 31.5, 24.3,\n",
      "       31.7, 41.7, 48.3, 29. , 24. , 25.1, 31.5, 23.7, 23.3, 22. , 20.1,\n",
      "       22.2, 23.7, 17.6, 18.5, 24.3, 20.5, 24.5, 26.2, 24.4, 24.8, 29.6,\n",
      "       42.8, 21.9, 20.9, 44. , 50. , 36. , 30.1, 33.8, 43.1, 48.8, 31. ,\n",
      "       36.5, 22.8, 30.7, 50. , 43.5, 20.7, 21.1, 25.2, 24.4, 35.2, 32.4,\n",
      "       32. , 33.2, 33.1, 29.1, 35.1, 45.4, 35.4, 46. , 50. , 32.2, 22. ,\n",
      "       20.1, 23.2, 22.3, 24.8, 28.5, 37.3, 27.9, 23.9, 21.7, 28.6, 27.1,\n",
      "       20.3, 22.5, 29. , 24.8, 22. , 26.4, 33.1, 36.1, 28.4, 33.4, 28.2,\n",
      "       22.8, 20.3, 16.1, 22.1, 19.4, 21.6, 23.8, 16.2, 17.8, 19.8, 23.1,\n",
      "       21. , 23.8, 23.1, 20.4, 18.5, 25. , 24.6, 23. , 22.2, 19.3, 22.6,\n",
      "       19.8, 17.1, 19.4, 22.2, 20.7, 21.1, 19.5, 18.5, 20.6, 19. , 18.7,\n",
      "       32.7, 16.5, 23.9, 31.2, 17.5, 17.2, 23.1, 24.5, 26.6, 22.9, 24.1,\n",
      "       18.6, 30.1, 18.2, 20.6, 17.8, 21.7, 22.7, 22.6, 25. , 19.9, 20.8,\n",
      "       16.8, 21.9, 27.5, 21.9, 23.1, 50. , 50. , 50. , 50. , 50. , 13.8,\n",
      "       13.8, 15. , 13.9, 13.3, 13.1, 10.2, 10.4, 10.9, 11.3, 12.3,  8.8,\n",
      "        7.2, 10.5,  7.4, 10.2, 11.5, 15.1, 23.2,  9.7, 13.8, 12.7, 13.1,\n",
      "       12.5,  8.5,  5. ,  6.3,  5.6,  7.2, 12.1,  8.3,  8.5,  5. , 11.9,\n",
      "       27.9, 17.2, 27.5, 15. , 17.2, 17.9, 16.3,  7. ,  7.2,  7.5, 10.4,\n",
      "        8.8,  8.4, 16.7, 14.2, 20.8, 13.4, 11.7,  8.3, 10.2, 10.9, 11. ,\n",
      "        9.5, 14.5, 14.1, 16.1, 14.3, 11.7, 13.4,  9.6,  8.7,  8.4, 12.8,\n",
      "       10.5, 17.1, 18.4, 15.4, 10.8, 11.8, 14.9, 12.6, 14.1, 13. , 13.4,\n",
      "       15.2, 16.1, 17.8, 14.9, 14.1, 12.7, 13.5, 14.9, 20. , 16.4, 17.7,\n",
      "       19.5, 20.2, 21.4, 19.9, 19. , 19.1, 19.1, 20.1, 19.9, 19.6, 23.2,\n",
      "       29.8, 13.8, 13.3, 16.7, 12. , 14.6, 21.4, 23. , 23.7, 25. , 21.8,\n",
      "       20.6, 21.2, 19.1, 20.6, 15.2,  7. ,  8.1, 13.6, 20.1, 21.8, 24.5,\n",
      "       23.1, 19.7, 18.3, 21.2, 17.5, 16.8, 22.4, 20.6, 23.9, 22. , 11.9]), 'feature_names': array(['CRIM', 'ZN', 'INDUS', 'CHAS', 'NOX', 'RM', 'AGE', 'DIS', 'RAD',\n",
      "       'TAX', 'PTRATIO', 'B', 'LSTAT'], dtype='<U7'), 'DESCR': \".. _boston_dataset:\\n\\nBoston house prices dataset\\n---------------------------\\n\\n**Data Set Characteristics:**  \\n\\n    :Number of Instances: 506 \\n\\n    :Number of Attributes: 13 numeric/categorical predictive. Median Value (attribute 14) is usually the target.\\n\\n    :Attribute Information (in order):\\n        - CRIM     per capita crime rate by town\\n        - ZN       proportion of residential land zoned for lots over 25,000 sq.ft.\\n        - INDUS    proportion of non-retail business acres per town\\n        - CHAS     Charles River dummy variable (= 1 if tract bounds river; 0 otherwise)\\n        - NOX      nitric oxides concentration (parts per 10 million)\\n        - RM       average number of rooms per dwelling\\n        - AGE      proportion of owner-occupied units built prior to 1940\\n        - DIS      weighted distances to five Boston employment centres\\n        - RAD      index of accessibility to radial highways\\n        - TAX      full-value property-tax rate per $10,000\\n        - PTRATIO  pupil-teacher ratio by town\\n        - B        1000(Bk - 0.63)^2 where Bk is the proportion of black people by town\\n        - LSTAT    % lower status of the population\\n        - MEDV     Median value of owner-occupied homes in $1000's\\n\\n    :Missing Attribute Values: None\\n\\n    :Creator: Harrison, D. and Rubinfeld, D.L.\\n\\nThis is a copy of UCI ML housing dataset.\\nhttps://archive.ics.uci.edu/ml/machine-learning-databases/housing/\\n\\n\\nThis dataset was taken from the StatLib library which is maintained at Carnegie Mellon University.\\n\\nThe Boston house-price data of Harrison, D. and Rubinfeld, D.L. 'Hedonic\\nprices and the demand for clean air', J. Environ. Economics & Management,\\nvol.5, 81-102, 1978.   Used in Belsley, Kuh & Welsch, 'Regression diagnostics\\n...', Wiley, 1980.   N.B. Various transformations are used in the table on\\npages 244-261 of the latter.\\n\\nThe Boston house-price data has been used in many machine learning papers that address regression\\nproblems.   \\n     \\n.. topic:: References\\n\\n   - Belsley, Kuh & Welsch, 'Regression diagnostics: Identifying Influential Data and Sources of Collinearity', Wiley, 1980. 244-261.\\n   - Quinlan,R. (1993). Combining Instance-Based and Model-Based Learning. In Proceedings on the Tenth International Conference of Machine Learning, 236-243, University of Massachusetts, Amherst. Morgan Kaufmann.\\n\", 'filename': 'boston_house_prices.csv', 'data_module': 'sklearn.datasets.data'}\n",
      "\n",
      "Informacion en el dataset\n",
      "dict_keys(['data', 'target', 'feature_names', 'DESCR', 'filename', 'data_module'])\n",
      "\n",
      "Caracteristicas del dataset\n",
      ".. _boston_dataset:\n",
      "\n",
      "Boston house prices dataset\n",
      "---------------------------\n",
      "\n",
      "**Data Set Characteristics:**  \n",
      "\n",
      "    :Number of Instances: 506 \n",
      "\n",
      "    :Number of Attributes: 13 numeric/categorical predictive. Median Value (attribute 14) is usually the target.\n",
      "\n",
      "    :Attribute Information (in order):\n",
      "        - CRIM     per capita crime rate by town\n",
      "        - ZN       proportion of residential land zoned for lots over 25,000 sq.ft.\n",
      "        - INDUS    proportion of non-retail business acres per town\n",
      "        - CHAS     Charles River dummy variable (= 1 if tract bounds river; 0 otherwise)\n",
      "        - NOX      nitric oxides concentration (parts per 10 million)\n",
      "        - RM       average number of rooms per dwelling\n",
      "        - AGE      proportion of owner-occupied units built prior to 1940\n",
      "        - DIS      weighted distances to five Boston employment centres\n",
      "        - RAD      index of accessibility to radial highways\n",
      "        - TAX      full-value property-tax rate per $10,000\n",
      "        - PTRATIO  pupil-teacher ratio by town\n",
      "        - B        1000(Bk - 0.63)^2 where Bk is the proportion of black people by town\n",
      "        - LSTAT    % lower status of the population\n",
      "        - MEDV     Median value of owner-occupied homes in $1000's\n",
      "\n",
      "    :Missing Attribute Values: None\n",
      "\n",
      "    :Creator: Harrison, D. and Rubinfeld, D.L.\n",
      "\n",
      "This is a copy of UCI ML housing dataset.\n",
      "https://archive.ics.uci.edu/ml/machine-learning-databases/housing/\n",
      "\n",
      "\n",
      "This dataset was taken from the StatLib library which is maintained at Carnegie Mellon University.\n",
      "\n",
      "The Boston house-price data of Harrison, D. and Rubinfeld, D.L. 'Hedonic\n",
      "prices and the demand for clean air', J. Environ. Economics & Management,\n",
      "vol.5, 81-102, 1978.   Used in Belsley, Kuh & Welsch, 'Regression diagnostics\n",
      "...', Wiley, 1980.   N.B. Various transformations are used in the table on\n",
      "pages 244-261 of the latter.\n",
      "\n",
      "The Boston house-price data has been used in many machine learning papers that address regression\n",
      "problems.   \n",
      "     \n",
      ".. topic:: References\n",
      "\n",
      "   - Belsley, Kuh & Welsch, 'Regression diagnostics: Identifying Influential Data and Sources of Collinearity', Wiley, 1980. 244-261.\n",
      "   - Quinlan,R. (1993). Combining Instance-Based and Model-Based Learning. In Proceedings on the Tenth International Conference of Machine Learning, 236-243, University of Massachusetts, Amherst. Morgan Kaufmann.\n",
      "\n",
      "Cantidad de datos:\n",
      "(506, 13)\n",
      "\n",
      "Nombres de las columnas:\n",
      "['CRIM' 'ZN' 'INDUS' 'CHAS' 'NOX' 'RM' 'AGE' 'DIS' 'RAD' 'TAX' 'PTRATIO'\n",
      " 'B' 'LSTAT']\n"
     ]
    },
    {
     "name": "stderr",
     "output_type": "stream",
     "text": [
      "C:\\Users\\hp\\anaconda3\\lib\\site-packages\\sklearn\\utils\\deprecation.py:87: FutureWarning: Function load_boston is deprecated; `load_boston` is deprecated in 1.0 and will be removed in 1.2.\n",
      "\n",
      "    The Boston housing prices dataset has an ethical problem. You can refer to\n",
      "    the documentation of this function for further details.\n",
      "\n",
      "    The scikit-learn maintainers therefore strongly discourage the use of this\n",
      "    dataset unless the purpose of the code is to study and educate about\n",
      "    ethical issues in data science and machine learning.\n",
      "\n",
      "    In this special case, you can fetch the dataset from the original\n",
      "    source::\n",
      "\n",
      "        import pandas as pd\n",
      "        import numpy as np\n",
      "\n",
      "\n",
      "        data_url = \"http://lib.stat.cmu.edu/datasets/boston\"\n",
      "        raw_df = pd.read_csv(data_url, sep=\"\\s+\", skiprows=22, header=None)\n",
      "        data = np.hstack([raw_df.values[::2, :], raw_df.values[1::2, :2]])\n",
      "        target = raw_df.values[1::2, 2]\n",
      "\n",
      "    Alternative datasets include the California housing dataset (i.e.\n",
      "    :func:`~sklearn.datasets.fetch_california_housing`) and the Ames housing\n",
      "    dataset. You can load the datasets as follows::\n",
      "\n",
      "        from sklearn.datasets import fetch_california_housing\n",
      "        housing = fetch_california_housing()\n",
      "\n",
      "    for the California housing dataset and::\n",
      "\n",
      "        from sklearn.datasets import fetch_openml\n",
      "        housing = fetch_openml(name=\"house_prices\", as_frame=True)\n",
      "\n",
      "    for the Ames housing dataset.\n",
      "    \n",
      "  warnings.warn(msg, category=FutureWarning)\n"
     ]
    }
   ],
   "source": [
    "# Importamos el dataset\n",
    "boston = datasets.load_boston()\n",
    "print(boston)\n",
    "print()\n",
    "\n",
    "# Mostramos la informacion del dataset\n",
    "print('Informacion en el dataset')\n",
    "print(boston.keys())\n",
    "print()\n",
    "\n",
    "# Verificamos la informacion del dataset\n",
    "print('Caracteristicas del dataset')\n",
    "print(boston.DESCR)\n",
    "\n",
    "# Verificamos la cantidad de datos que hay\n",
    "print('Cantidad de datos:')\n",
    "print(boston.data.shape)\n",
    "print()\n",
    "\n",
    "# Verificamos la informacion de las columnas\n",
    "print('Nombres de las columnas:')\n",
    "print(boston.feature_names)"
   ]
  },
  {
   "cell_type": "markdown",
   "id": "f2273bd2",
   "metadata": {},
   "source": [
    "Después del preprocesamiento procedemos a dividir los datos en *x* y *y*"
   ]
  },
  {
   "cell_type": "code",
   "execution_count": 3,
   "id": "806de23e",
   "metadata": {},
   "outputs": [],
   "source": [
    "# Seleccionamos la columna 6 del dataset\n",
    "X_adr = boston.data[:, np.newaxis, 5]\n",
    "\n",
    "# Se selecciona los datos correspondientes a las etiquetas\n",
    "y_adr = boston.target"
   ]
  },
  {
   "cell_type": "markdown",
   "id": "463e3945",
   "metadata": {},
   "source": [
    "Implementación de arboles de decision Regresión"
   ]
  },
  {
   "cell_type": "code",
   "execution_count": 18,
   "id": "15d76fed",
   "metadata": {},
   "outputs": [
    {
     "data": {
      "image/png": "[encoded data removed]",
      "text/plain": [
       "<Figure size 432x288 with 1 Axes>"
      ]
     },
     "metadata": {
      "needs_background": "light"
     },
     "output_type": "display_data"
    }
   ],
   "source": [
    "# Dividimos los datos en \"train\" y \"test\"\n",
    "X_train, X_test, y_train, y_test = train_test_split(X_adr, y_adr, test_size = 0.2)\n",
    "\n",
    "# Importamos la libreria del arbol\n",
    "from sklearn.tree import DecisionTreeRegressor\n",
    "\n",
    "# Definimos el algoritmo a utilizar\n",
    "adr = DecisionTreeRegressor(max_depth = 5)\n",
    "\n",
    "# Entrenamos el modelo\n",
    "adr.fit(X_train, y_train)\n",
    "\n",
    "# Realizamos una predicion\n",
    "Y_pred = adr.predict(X_test)\n",
    "\n",
    "# Graficamos los datos de prueba junto con la predicción\n",
    "X_grid = np.arange(min(X_test), max(X_test), 0.1)\n",
    "X_grid = X_grid.reshape(len(X_grid), 1)\n",
    "plt.scatter(X_test, y_test)\n",
    "plt.plot(X_grid, adr.predict(X_grid), color='red', linewidth=2)\n",
    "plt.xlabel('Número de cuartos')\n",
    "plt.ylabel('Precio medio')\n",
    "plt.title('Arbol de decisión regresión')\n",
    "plt.show()"
   ]
  },
  {
   "cell_type": "markdown",
   "id": "34d54301",
   "metadata": {},
   "source": [
    "Comparamos los datos de predichos con el test"
   ]
  },
  {
   "cell_type": "code",
   "execution_count": 12,
   "id": "713cb463",
   "metadata": {},
   "outputs": [
    {
     "name": "stdout",
     "output_type": "stream",
     "text": [
      "y_test\t\ty_pred\n",
      "13.4 \t\t 27.84\n",
      "21.0 \t\t 20.09\n",
      "24.6 \t\t 20.09\n",
      "24.5 \t\t 20.09\n",
      "18.7 \t\t 20.09\n",
      "19.4 \t\t 20.09\n",
      "13.8 \t\t 16.31\n",
      "23.9 \t\t 24.15\n",
      "21.8 \t\t 16.31\n",
      "34.6 \t\t 33.27\n",
      "28.5 \t\t 24.15\n",
      "20.3 \t\t 16.31\n",
      "14.6 \t\t 20.09\n",
      "17.5 \t\t 16.31\n",
      "24.7 \t\t 20.09\n",
      "24.7 \t\t 20.09\n",
      "22.4 \t\t 16.31\n",
      "22.8 \t\t 27.84\n",
      "13.0 \t\t 20.09\n",
      "25.1 \t\t 27.84\n",
      "20.4 \t\t 17.6\n",
      "22.5 \t\t 20.09\n",
      "18.9 \t\t 17.6\n",
      "13.8 \t\t 9.23\n",
      "24.4 \t\t 20.09\n",
      "18.8 \t\t 17.6\n",
      "11.3 \t\t 16.31\n",
      "36.5 \t\t 33.27\n",
      "21.2 \t\t 20.09\n",
      "23.0 \t\t 20.09\n",
      "18.4 \t\t 20.09\n",
      "20.3 \t\t 26.82\n",
      "17.8 \t\t 17.6\n",
      "35.4 \t\t 28.4\n",
      "32.0 \t\t 24.15\n",
      "32.2 \t\t 33.27\n",
      "21.0 \t\t 16.31\n",
      "29.8 \t\t 28.4\n",
      "31.2 \t\t 24.15\n",
      "23.6 \t\t 20.09\n",
      "23.7 \t\t 16.31\n",
      "20.0 \t\t 20.09\n",
      "23.9 \t\t 20.09\n",
      "7.2 \t\t 20.09\n",
      "21.9 \t\t 16.31\n",
      "10.5 \t\t 16.31\n",
      "17.4 \t\t 16.31\n",
      "19.6 \t\t 20.09\n",
      "12.6 \t\t 20.09\n",
      "26.4 \t\t 20.09\n",
      "27.1 \t\t 30.23\n",
      "21.4 \t\t 20.09\n",
      "20.7 \t\t 17.6\n",
      "25.0 \t\t 20.09\n",
      "23.3 \t\t 27.84\n",
      "22.2 \t\t 20.09\n",
      "22.0 \t\t 23.58\n",
      "34.9 \t\t 33.27\n",
      "26.2 \t\t 24.15\n",
      "31.7 \t\t 28.98\n",
      "35.1 \t\t 24.15\n",
      "46.0 \t\t 45.71\n",
      "31.0 \t\t 36.0\n",
      "17.8 \t\t 16.31\n",
      "21.2 \t\t 20.09\n",
      "19.3 \t\t 16.31\n",
      "7.4 \t\t 16.31\n",
      "42.8 \t\t 42.56\n",
      "16.0 \t\t 20.09\n",
      "23.3 \t\t 17.6\n",
      "24.4 \t\t 20.09\n",
      "20.6 \t\t 17.6\n",
      "25.0 \t\t 20.09\n",
      "11.5 \t\t 16.31\n",
      "25.0 \t\t 24.15\n",
      "50.0 \t\t 42.56\n",
      "21.4 \t\t 20.09\n",
      "21.1 \t\t 16.31\n",
      "20.0 \t\t 16.31\n",
      "23.1 \t\t 20.09\n",
      "33.2 \t\t 33.27\n",
      "42.3 \t\t 45.71\n",
      "21.4 \t\t 20.09\n",
      "31.1 \t\t 24.15\n",
      "19.9 \t\t 16.31\n",
      "19.7 \t\t 16.31\n",
      "14.9 \t\t 20.09\n",
      "19.1 \t\t 20.09\n",
      "29.0 \t\t 33.27\n",
      "48.3 \t\t 42.56\n",
      "24.8 \t\t 32.5\n",
      "5.6 \t\t 20.09\n",
      "37.9 \t\t 33.27\n",
      "50.0 \t\t 45.71\n",
      "8.3 \t\t 16.31\n",
      "18.5 \t\t 16.31\n",
      "17.3 \t\t 16.31\n",
      "11.9 \t\t 20.09\n",
      "26.7 \t\t 39.15\n",
      "29.6 \t\t 39.15\n",
      "20.4 \t\t 20.09\n",
      "10.2 \t\t 16.31\n"
     ]
    }
   ],
   "source": [
    "print('y_test\\t\\ty_pred')\n",
    "for i in range(len(y_test)):\n",
    "    print(y_test[i],'\\t\\t', round(Y_pred[i], 2))"
   ]
  },
  {
   "cell_type": "markdown",
   "id": "05e6cd94",
   "metadata": {},
   "source": [
    "Comprobamos la precision del modelo que acabamos de implementar"
   ]
  },
  {
   "cell_type": "code",
   "execution_count": 13,
   "id": "6754ae81",
   "metadata": {},
   "outputs": [
    {
     "name": "stdout",
     "output_type": "stream",
     "text": [
      "DATOS DEL MODELO ÁRBOLES DE DECISIÓN REGRESIÓN\n",
      "\n",
      "Precision del modelo:\n",
      "\t 0.6600003520956239\n"
     ]
    }
   ],
   "source": [
    "print('DATOS DEL MODELO ÁRBOLES DE DECISIÓN REGRESIÓN')\n",
    "print()\n",
    "\n",
    "print('Precision del modelo:\\n\\t',\n",
    "     adr.score(X_train, y_train))"
   ]
  },
  {
   "cell_type": "markdown",
   "id": "06692a68",
   "metadata": {},
   "source": [
    "Luego de implementar este algoritmo con una profundidad de *5* obtuvimos una precisión del *0.66* con el fin de intentar mejorar esta precisión sin caer en un sobreajuste, vamos a volver a implementarlo con una profundidad de *8*"
   ]
  },
  {
   "cell_type": "code",
   "execution_count": 35,
   "id": "c9e0078e",
   "metadata": {},
   "outputs": [
    {
     "data": {
      "image/png": "[encoded data removed]",
      "text/plain": [
       "<Figure size 432x288 with 1 Axes>"
      ]
     },
     "metadata": {
      "needs_background": "light"
     },
     "output_type": "display_data"
    }
   ],
   "source": [
    "# Dividimos los datos en \"train\" y \"test\"\n",
    "X_train2, X_test2, y_train2, y_test2 = train_test_split(X_adr, y_adr, test_size = 0.2)\n",
    "\n",
    "# Importamos la libreria del arbol\n",
    "from sklearn.tree import DecisionTreeRegressor\n",
    "\n",
    "# Definimos el algoritmo a utilizar\n",
    "adr2 = DecisionTreeRegressor(max_depth = 8)\n",
    "\n",
    "# Entrenamos el modelo\n",
    "adr2.fit(X_train2, y_train2)\n",
    "\n",
    "# Realizamos una predicion\n",
    "Y_pred2 = adr2.predict(X_test2)\n",
    "\n",
    "# Graficamos los datos de prueba junto con la predicción\n",
    "X_grid2 = np.arange(min(X_test2), max(X_test2), 0.1)\n",
    "X_grid2 = X_grid2.reshape(len(X_grid2), 1)\n",
    "plt.scatter(X_test2, y_test2)\n",
    "plt.plot(X_grid2, adr2.predict(X_grid2), color='red', linewidth=2)\n",
    "plt.xlabel('Número de cuartos')\n",
    "plt.ylabel('Precio medio')\n",
    "plt.title('Arbol de decisión regresión')\n",
    "plt.show()"
   ]
  },
  {
   "cell_type": "markdown",
   "id": "4777d9c0",
   "metadata": {},
   "source": [
    "Comparamos los datos de predichos con el test"
   ]
  },
  {
   "cell_type": "code",
   "execution_count": 36,
   "id": "916d5466",
   "metadata": {},
   "outputs": [
    {
     "name": "stdout",
     "output_type": "stream",
     "text": [
      "y_test\t\ty_pred\t\tDiferencia\n",
      "25.0 \t\t 20.12 \t\t 4.88\n",
      "24.5 \t\t 17.69 \t\t 6.81\n",
      "30.1 \t\t 24.29 \t\t 5.81\n",
      "22.8 \t\t 20.12 \t\t 2.68\n",
      "23.4 \t\t 18.12 \t\t 5.27\n",
      "19.5 \t\t 22.0 \t\t -2.5\n",
      "24.0 \t\t 24.29 \t\t -0.29\n",
      "22.5 \t\t 20.12 \t\t 2.38\n",
      "23.8 \t\t 33.7 \t\t -9.9\n",
      "36.0 \t\t 31.0 \t\t 5.0\n",
      "31.5 \t\t 31.0 \t\t 0.5\n",
      "20.7 \t\t 20.12 \t\t 0.58\n",
      "24.8 \t\t 20.12 \t\t 4.68\n",
      "42.3 \t\t 46.0 \t\t -3.7\n",
      "22.0 \t\t 20.12 \t\t 1.88\n",
      "19.6 \t\t 17.69 \t\t 1.91\n",
      "36.2 \t\t 37.6 \t\t -1.4\n",
      "33.2 \t\t 31.7 \t\t 1.5\n",
      "16.8 \t\t 20.12 \t\t -3.32\n",
      "24.1 \t\t 24.29 \t\t -0.19\n",
      "17.1 \t\t 16.32 \t\t 0.78\n",
      "18.9 \t\t 17.69 \t\t 1.21\n",
      "15.4 \t\t 17.63 \t\t -2.23\n",
      "19.4 \t\t 16.32 \t\t 3.08\n",
      "26.4 \t\t 21.04 \t\t 5.36\n",
      "20.0 \t\t 20.12 \t\t -0.12\n",
      "23.9 \t\t 24.29 \t\t -0.39\n",
      "24.4 \t\t 20.12 \t\t 4.28\n",
      "22.7 \t\t 10.8 \t\t 11.9\n",
      "13.5 \t\t 20.12 \t\t -6.62\n",
      "22.2 \t\t 20.12 \t\t 2.08\n",
      "13.8 \t\t 20.12 \t\t -6.32\n",
      "21.7 \t\t 20.04 \t\t 1.66\n",
      "34.9 \t\t 23.9 \t\t 11.0\n",
      "25.1 \t\t 24.29 \t\t 0.81\n",
      "22.3 \t\t 20.12 \t\t 2.18\n",
      "36.1 \t\t 34.07 \t\t 2.03\n",
      "37.2 \t\t 29.8 \t\t 7.4\n",
      "50.0 \t\t 20.12 \t\t 29.88\n",
      "10.2 \t\t 19.73 \t\t -9.53\n",
      "16.3 \t\t 12.26 \t\t 4.04\n",
      "24.4 \t\t 16.5 \t\t 7.9\n",
      "16.8 \t\t 22.4 \t\t -5.6\n",
      "13.4 \t\t 24.29 \t\t -10.89\n",
      "29.9 \t\t 30.57 \t\t -0.67\n",
      "24.8 \t\t 30.57 \t\t -5.77\n",
      "36.4 \t\t 34.07 \t\t 2.33\n",
      "11.7 \t\t 20.12 \t\t -8.42\n",
      "27.1 \t\t 29.4 \t\t -2.3\n",
      "50.0 \t\t 43.8 \t\t 6.2\n",
      "20.4 \t\t 20.6 \t\t -0.2\n",
      "20.0 \t\t 9.48 \t\t 10.52\n",
      "20.3 \t\t 20.28 \t\t 0.02\n",
      "19.5 \t\t 19.73 \t\t -0.23\n",
      "19.9 \t\t 19.73 \t\t 0.17\n",
      "50.0 \t\t 24.29 \t\t 25.71\n",
      "23.1 \t\t 9.23 \t\t 13.87\n",
      "17.6 \t\t 17.63 \t\t -0.03\n",
      "23.6 \t\t 20.12 \t\t 3.48\n",
      "9.5 \t\t 20.12 \t\t -10.62\n",
      "18.7 \t\t 20.04 \t\t -1.34\n",
      "20.1 \t\t 16.32 \t\t 3.78\n",
      "14.6 \t\t 13.5 \t\t 1.1\n",
      "21.4 \t\t 20.12 \t\t 1.28\n",
      "14.9 \t\t 20.12 \t\t -5.22\n",
      "8.8 \t\t 20.04 \t\t -11.24\n",
      "34.9 \t\t 50.0 \t\t -15.1\n",
      "20.0 \t\t 20.28 \t\t -0.28\n",
      "20.9 \t\t 33.7 \t\t -12.8\n",
      "13.3 \t\t 20.12 \t\t -6.82\n",
      "19.4 \t\t 17.63 \t\t 1.77\n",
      "17.4 \t\t 17.69 \t\t -0.29\n",
      "24.6 \t\t 20.12 \t\t 4.48\n",
      "19.3 \t\t 22.0 \t\t -2.7\n",
      "45.4 \t\t 43.8 \t\t 1.6\n",
      "50.0 \t\t 43.5 \t\t 6.5\n",
      "17.5 \t\t 5.6 \t\t 11.9\n",
      "25.0 \t\t 20.12 \t\t 4.88\n",
      "22.0 \t\t 17.69 \t\t 4.31\n",
      "22.2 \t\t 20.12 \t\t 2.08\n",
      "23.5 \t\t 20.12 \t\t 3.38\n",
      "20.7 \t\t 17.69 \t\t 3.01\n",
      "10.2 \t\t 13.5 \t\t -3.3\n",
      "21.6 \t\t 20.12 \t\t 1.48\n",
      "13.1 \t\t 16.32 \t\t -3.22\n",
      "13.6 \t\t 20.04 \t\t -6.44\n",
      "14.5 \t\t 20.12 \t\t -5.62\n",
      "25.2 \t\t 20.12 \t\t 5.08\n",
      "17.8 \t\t 31.7 \t\t -13.9\n",
      "18.2 \t\t 20.12 \t\t -1.92\n",
      "23.1 \t\t 17.69 \t\t 5.41\n",
      "13.8 \t\t 9.23 \t\t 4.57\n",
      "26.4 \t\t 17.63 \t\t 8.77\n",
      "23.3 \t\t 20.12 \t\t 3.18\n",
      "24.1 \t\t 20.12 \t\t 3.98\n",
      "23.1 \t\t 20.12 \t\t 2.98\n",
      "22.8 \t\t 24.29 \t\t -1.49\n",
      "28.4 \t\t 24.29 \t\t 4.11\n",
      "20.5 \t\t 20.12 \t\t 0.38\n",
      "17.5 \t\t 20.12 \t\t -2.62\n",
      "11.7 \t\t 17.63 \t\t -5.93\n",
      "27.9 \t\t 24.29 \t\t 3.61\n"
     ]
    }
   ],
   "source": [
    "print('y_test\\t\\ty_pred\\t\\tDiferencia')\n",
    "for i in range(len(y_test)):\n",
    "    print(y_test2[i],'\\t\\t', round(Y_pred2[i], 2),'\\t\\t', round(y_test2[i]-Y_pred2[i],2))"
   ]
  },
  {
   "cell_type": "markdown",
   "id": "1b9588ba",
   "metadata": {},
   "source": [
    "Comprobamos la precision del modelo que acabamos de implementar"
   ]
  },
  {
   "cell_type": "code",
   "execution_count": 37,
   "id": "a72a942a",
   "metadata": {},
   "outputs": [
    {
     "name": "stdout",
     "output_type": "stream",
     "text": [
      "DATOS DEL MODELO ÁRBOLES DE DECISIÓN REGRESIÓN\n",
      "\n",
      "Precision del modelo:\n",
      "\t 0.8037034349901541\n"
     ]
    }
   ],
   "source": [
    "print('DATOS DEL MODELO ÁRBOLES DE DECISIÓN REGRESIÓN')\n",
    "print()\n",
    "\n",
    "print('Precision del modelo:\\n\\t',\n",
    "     adr2.score(X_train2, y_train2))"
   ]
  },
  {
   "cell_type": "markdown",
   "id": "b3b75ac1",
   "metadata": {},
   "source": [
    "Obtuvimos una mejor precision la cual se ve de manera gráfica y al momento de evaluarlo con la funcion score obtenemos un *80%* de precisión podemos intentar hacer dos vueltas más una con *10* de profundidad y una profundidad automatica."
   ]
  },
  {
   "cell_type": "code",
   "execution_count": 38,
   "id": "5ada9fef",
   "metadata": {},
   "outputs": [
    {
     "data": {
      "image/png": "[encoded data removed]",
      "text/plain": [
       "<Figure size 432x288 with 1 Axes>"
      ]
     },
     "metadata": {
      "needs_background": "light"
     },
     "output_type": "display_data"
    }
   ],
   "source": [
    "# Dividimos los datos en \"train\" y \"test\"\n",
    "X_train3, X_test3, y_train3, y_test3 = train_test_split(X_adr, y_adr, test_size = 0.2)\n",
    "\n",
    "# Importamos la libreria del arbol\n",
    "from sklearn.tree import DecisionTreeRegressor\n",
    "\n",
    "# Definimos el algoritmo a utilizar\n",
    "adr3 = DecisionTreeRegressor(max_depth = 10)\n",
    "\n",
    "# Entrenamos el modelo\n",
    "adr3.fit(X_train3, y_train3)\n",
    "\n",
    "# Realizamos una predicion\n",
    "Y_pred3 = adr3.predict(X_test3)\n",
    "\n",
    "# Graficamos los datos de prueba junto con la predicción\n",
    "X_grid3 = np.arange(min(X_test3), max(X_test3), 0.1)\n",
    "X_grid3 = X_grid3.reshape(len(X_grid3), 1)\n",
    "plt.scatter(X_test3, y_test3)\n",
    "plt.plot(X_grid3, adr3.predict(X_grid3), color='red', linewidth=2)\n",
    "plt.xlabel('Número de cuartos')\n",
    "plt.ylabel('Precio medio')\n",
    "plt.title('Arbol de decisión regresión')\n",
    "plt.show()"
   ]
  },
  {
   "cell_type": "markdown",
   "id": "35de2455",
   "metadata": {},
   "source": [
    "Comparamos los datos de predichos con el test"
   ]
  },
  {
   "cell_type": "code",
   "execution_count": 39,
   "id": "5c211b1e",
   "metadata": {},
   "outputs": [
    {
     "name": "stdout",
     "output_type": "stream",
     "text": [
      "y_test\t\ty_pred\t\tDiferencia\n",
      "23.4 \t\t 20.44 \t\t 2.96\n",
      "23.2 \t\t 18.01 \t\t 5.19\n",
      "21.2 \t\t 18.01 \t\t 3.19\n",
      "16.7 \t\t 15.4 \t\t 1.3\n",
      "21.7 \t\t 20.44 \t\t 1.26\n",
      "9.5 \t\t 20.44 \t\t -10.94\n",
      "23.9 \t\t 20.44 \t\t 3.46\n",
      "21.7 \t\t 20.63 \t\t 1.07\n",
      "37.9 \t\t 36.85 \t\t 1.05\n",
      "13.8 \t\t 20.95 \t\t -7.15\n",
      "31.0 \t\t 36.0 \t\t -5.0\n",
      "24.6 \t\t 20.44 \t\t 4.16\n",
      "10.8 \t\t 22.7 \t\t -11.9\n",
      "26.4 \t\t 19.2 \t\t 7.2\n",
      "13.4 \t\t 20.95 \t\t -7.55\n",
      "14.4 \t\t 13.21 \t\t 1.19\n",
      "24.1 \t\t 20.95 \t\t 3.15\n",
      "13.4 \t\t 17.55 \t\t -4.15\n",
      "21.4 \t\t 20.44 \t\t 0.96\n",
      "30.1 \t\t 28.2 \t\t 1.9\n",
      "33.2 \t\t 33.96 \t\t -0.76\n",
      "23.1 \t\t 20.44 \t\t 2.66\n",
      "22.4 \t\t 29.95 \t\t -7.55\n",
      "24.7 \t\t 29.9 \t\t -5.2\n",
      "20.7 \t\t 20.44 \t\t 0.26\n",
      "14.9 \t\t 20.44 \t\t -5.54\n",
      "22.5 \t\t 20.44 \t\t 2.06\n",
      "18.2 \t\t 16.19 \t\t 2.01\n",
      "26.6 \t\t 25.0 \t\t 1.6\n",
      "13.6 \t\t 19.2 \t\t -5.6\n",
      "12.5 \t\t 20.44 \t\t -7.94\n",
      "30.1 \t\t 14.9 \t\t 15.2\n",
      "22.0 \t\t 23.8 \t\t -1.8\n",
      "24.3 \t\t 20.95 \t\t 3.35\n",
      "8.1 \t\t 13.21 \t\t -5.11\n",
      "50.0 \t\t 44.8 \t\t 5.2\n",
      "15.6 \t\t 16.19 \t\t -0.59\n",
      "26.7 \t\t 37.0 \t\t -10.3\n",
      "43.8 \t\t 45.4 \t\t -1.6\n",
      "24.7 \t\t 18.01 \t\t 6.69\n",
      "36.5 \t\t 33.96 \t\t 2.54\n",
      "19.8 \t\t 18.06 \t\t 1.74\n",
      "24.5 \t\t 25.6 \t\t -1.1\n",
      "24.8 \t\t 20.44 \t\t 4.36\n",
      "27.0 \t\t 20.44 \t\t 6.56\n",
      "36.2 \t\t 20.95 \t\t 15.25\n",
      "19.8 \t\t 20.95 \t\t -1.15\n",
      "20.5 \t\t 20.95 \t\t -0.45\n",
      "17.6 \t\t 19.2 \t\t -1.6\n",
      "19.1 \t\t 18.8 \t\t 0.3\n",
      "31.6 \t\t 36.85 \t\t -5.25\n",
      "19.3 \t\t 16.19 \t\t 3.11\n",
      "24.2 \t\t 20.44 \t\t 3.76\n",
      "17.8 \t\t 20.95 \t\t -3.15\n",
      "16.2 \t\t 16.19 \t\t 0.01\n",
      "18.8 \t\t 19.08 \t\t -0.27\n",
      "16.8 \t\t 18.06 \t\t -1.26\n",
      "13.8 \t\t 14.0 \t\t -0.2\n",
      "20.3 \t\t 18.01 \t\t 2.29\n",
      "19.1 \t\t 20.95 \t\t -1.85\n",
      "13.8 \t\t 7.0 \t\t 6.8\n",
      "19.6 \t\t 18.01 \t\t 1.59\n",
      "11.3 \t\t 10.4 \t\t 0.9\n",
      "17.0 \t\t 20.95 \t\t -3.95\n",
      "11.7 \t\t 19.2 \t\t -7.5\n",
      "21.9 \t\t 20.95 \t\t 0.95\n",
      "21.6 \t\t 20.44 \t\t 1.16\n",
      "23.0 \t\t 20.44 \t\t 2.56\n",
      "17.8 \t\t 31.7 \t\t -13.9\n",
      "34.9 \t\t 23.9 \t\t 11.0\n",
      "22.5 \t\t 18.06 \t\t 4.44\n",
      "21.4 \t\t 20.44 \t\t 0.96\n",
      "22.8 \t\t 29.0 \t\t -6.2\n",
      "13.3 \t\t 19.2 \t\t -5.9\n",
      "34.9 \t\t 50.0 \t\t -15.1\n",
      "18.5 \t\t 16.19 \t\t 2.31\n",
      "19.8 \t\t 13.1 \t\t 6.7\n",
      "17.8 \t\t 29.9 \t\t -12.1\n",
      "24.0 \t\t 24.23 \t\t -0.23\n",
      "13.3 \t\t 20.95 \t\t -7.65\n",
      "21.8 \t\t 18.06 \t\t 3.74\n",
      "50.0 \t\t 45.4 \t\t 4.6\n",
      "7.2 \t\t 20.44 \t\t -13.24\n",
      "50.0 \t\t 48.5 \t\t 1.5\n",
      "16.8 \t\t 18.01 \t\t -1.21\n",
      "23.6 \t\t 30.7 \t\t -7.1\n",
      "15.4 \t\t 19.2 \t\t -3.8\n",
      "26.2 \t\t 29.0 \t\t -2.8\n",
      "19.5 \t\t 18.06 \t\t 1.44\n",
      "17.4 \t\t 17.46 \t\t -0.06\n",
      "8.4 \t\t 33.1 \t\t -24.7\n",
      "10.2 \t\t 20.44 \t\t -10.24\n",
      "23.7 \t\t 13.4 \t\t 10.3\n",
      "14.6 \t\t 13.8 \t\t 0.8\n",
      "32.4 \t\t 25.0 \t\t 7.4\n",
      "36.1 \t\t 33.96 \t\t 2.14\n",
      "19.6 \t\t 20.44 \t\t -0.84\n",
      "11.9 \t\t 13.8 \t\t -1.9\n",
      "22.5 \t\t 18.01 \t\t 4.49\n",
      "17.4 \t\t 19.2 \t\t -1.8\n",
      "22.9 \t\t 20.95 \t\t 1.95\n",
      "20.3 \t\t 18.01 \t\t 2.29\n"
     ]
    }
   ],
   "source": [
    "print('y_test\\t\\ty_pred\\t\\tDiferencia')\n",
    "for i in range(len(y_test)):\n",
    "    print(y_test3[i],'\\t\\t', round(Y_pred3[i], 2),'\\t\\t', round(y_test3[i]-Y_pred3[i],2))"
   ]
  },
  {
   "cell_type": "markdown",
   "id": "f11c6aac",
   "metadata": {},
   "source": [
    "Como podemos ver los datos se acercan demasiado sin embargo vamos a comprobar que tan preciso es"
   ]
  },
  {
   "cell_type": "code",
   "execution_count": 40,
   "id": "0769dbba",
   "metadata": {},
   "outputs": [
    {
     "name": "stdout",
     "output_type": "stream",
     "text": [
      "DATOS DEL MODELO ÁRBOLES DE DECISIÓN REGRESIÓN\n",
      "\n",
      "Precision del modelo:\n",
      "\t 0.8523514545140092\n"
     ]
    }
   ],
   "source": [
    "print('DATOS DEL MODELO ÁRBOLES DE DECISIÓN REGRESIÓN')\n",
    "print()\n",
    "\n",
    "print('Precision del modelo:\\n\\t',\n",
    "     adr3.score(X_train3, y_train3))"
   ]
  },
  {
   "cell_type": "markdown",
   "id": "1d5f4ce3",
   "metadata": {},
   "source": [
    "Obtuvimos una mejor precision la cual se ve de manera gráfica y al momento de evaluarlo con la funcion score obtenemos un *85%* de precisión, vamos a hacer una ultima iteracion con la profundidad automatica."
   ]
  },
  {
   "cell_type": "code",
   "execution_count": 41,
   "id": "99207b7e",
   "metadata": {},
   "outputs": [
    {
     "data": {
      "image/png": "[encoded data removed]",
      "text/plain": [
       "<Figure size 432x288 with 1 Axes>"
      ]
     },
     "metadata": {
      "needs_background": "light"
     },
     "output_type": "display_data"
    }
   ],
   "source": [
    "# Dividimos los datos en \"train\" y \"test\"\n",
    "X_train4, X_test4, y_train4, y_test4 = train_test_split(X_adr, y_adr, test_size = 0.2)\n",
    "\n",
    "# Importamos la libreria del arbol\n",
    "from sklearn.tree import DecisionTreeRegressor\n",
    "\n",
    "# Definimos el algoritmo a utilizar\n",
    "adr4 = DecisionTreeRegressor()\n",
    "\n",
    "# Entrenamos el modelo\n",
    "adr4.fit(X_train4, y_train4)\n",
    "\n",
    "# Realizamos una predicion\n",
    "Y_pred4 = adr4.predict(X_test4)\n",
    "\n",
    "# Graficamos los datos de prueba junto con la predicción\n",
    "X_grid4 = np.arange(min(X_test4), max(X_test4), 0.1)\n",
    "X_grid4 = X_grid4.reshape(len(X_grid4), 1)\n",
    "plt.scatter(X_test4, y_test4)\n",
    "plt.plot(X_grid4, adr4.predict(X_grid4), color='red', linewidth=2)\n",
    "plt.xlabel('Número de cuartos')\n",
    "plt.ylabel('Precio medio')\n",
    "plt.title('Arbol de decisión regresión')\n",
    "plt.show()"
   ]
  },
  {
   "cell_type": "markdown",
   "id": "16e77874",
   "metadata": {},
   "source": [
    "Como vemos de manera grafica el modelo *(linea roja)* se ajusta demasiado a nuestros datos, sin embargo vamos a comprobar los valores predichos con los datos de test."
   ]
  },
  {
   "cell_type": "code",
   "execution_count": 46,
   "id": "bec8fdcd",
   "metadata": {},
   "outputs": [
    {
     "name": "stdout",
     "output_type": "stream",
     "text": [
      "y_test\t\ty_pred\t\tDiferencia\n",
      "29.8 \t\t 31.5 \t\t -1.7\n",
      "21.5 \t\t 19.0 \t\t 2.5\n",
      "19.7 \t\t 21.1 \t\t -1.4\n",
      "19.8 \t\t 36.2 \t\t -16.4\n",
      "15.1 \t\t 16.4 \t\t -1.3\n",
      "20.4 \t\t 13.2 \t\t 7.2\n",
      "27.9 \t\t 18.5 \t\t 9.4\n",
      "28.1 \t\t 23.1 \t\t 5.0\n",
      "24.3 \t\t 21.9 \t\t 2.4\n",
      "43.8 \t\t 45.4 \t\t -1.6\n",
      "32.7 \t\t 36.1 \t\t -3.4\n",
      "30.1 \t\t 23.9 \t\t 6.2\n",
      "31.6 \t\t 35.1 \t\t -3.5\n",
      "37.3 \t\t 36.2 \t\t 1.1\n",
      "12.7 \t\t 21.1 \t\t -8.4\n",
      "17.7 \t\t 23.1 \t\t -5.4\n",
      "19.4 \t\t 20.5 \t\t -1.1\n",
      "20.7 \t\t 22.1 \t\t -1.4\n",
      "19.6 \t\t 20.35 \t\t -0.75\n",
      "20.4 \t\t 20.6 \t\t -0.2\n",
      "16.6 \t\t 11.9 \t\t 4.7\n",
      "11.8 \t\t 9.6 \t\t 2.2\n",
      "5.6 \t\t 21.4 \t\t -15.8\n",
      "11.7 \t\t 22.3 \t\t -10.6\n",
      "14.9 \t\t 30.1 \t\t -15.2\n",
      "22.9 \t\t 17.5 \t\t 5.4\n",
      "19.3 \t\t 18.7 \t\t 0.6\n",
      "13.8 \t\t 23.7 \t\t -9.9\n",
      "21.6 \t\t 24.1 \t\t -2.5\n",
      "17.5 \t\t 13.6 \t\t 3.9\n",
      "18.2 \t\t 18.7 \t\t -0.5\n",
      "14.3 \t\t 16.5 \t\t -2.2\n",
      "15.6 \t\t 21.8 \t\t -6.2\n",
      "10.4 \t\t 12.0 \t\t -1.6\n",
      "19.1 \t\t 21.0 \t\t -1.9\n",
      "19.4 \t\t 18.5 \t\t 0.9\n",
      "23.1 \t\t 8.4 \t\t 14.7\n",
      "23.1 \t\t 13.6 \t\t 9.5\n",
      "44.8 \t\t 42.8 \t\t 2.0\n",
      "21.8 \t\t 17.1 \t\t 4.7\n",
      "18.9 \t\t 8.4 \t\t 10.5\n",
      "22.6 \t\t 21.7 \t\t 0.9\n",
      "19.1 \t\t 19.6 \t\t -0.5\n",
      "22.2 \t\t 14.5 \t\t 7.7\n",
      "50.0 \t\t 50.0 \t\t 0.0\n",
      "16.8 \t\t 11.9 \t\t 4.9\n",
      "15.2 \t\t 36.2 \t\t -21.0\n",
      "19.3 \t\t 20.8 \t\t -1.5\n",
      "20.9 \t\t 33.7 \t\t -12.8\n",
      "22.0 \t\t 19.5 \t\t 2.5\n",
      "50.0 \t\t 50.0 \t\t 0.0\n",
      "23.4 \t\t 19.6 \t\t 3.8\n",
      "24.8 \t\t 32.5 \t\t -7.7\n",
      "27.5 \t\t 32.0 \t\t -4.5\n",
      "20.0 \t\t 22.2 \t\t -2.2\n",
      "15.7 \t\t 17.2 \t\t -1.5\n",
      "24.2 \t\t 17.8 \t\t 6.4\n",
      "20.8 \t\t 8.3 \t\t 12.5\n",
      "13.3 \t\t 22.0 \t\t -8.7\n",
      "21.2 \t\t 14.0 \t\t 7.2\n",
      "19.9 \t\t 19.5 \t\t 0.4\n",
      "26.6 \t\t 25.0 \t\t 1.6\n",
      "11.3 \t\t 8.5 \t\t 2.8\n",
      "20.8 \t\t 18.2 \t\t 2.6\n",
      "29.9 \t\t 28.5 \t\t 1.4\n",
      "19.2 \t\t 22.2 \t\t -3.0\n",
      "21.7 \t\t 18.9 \t\t 2.8\n",
      "21.1 \t\t 13.3 \t\t 7.8\n",
      "12.3 \t\t 8.5 \t\t 3.8\n",
      "13.4 \t\t 19.3 \t\t -5.9\n",
      "29.1 \t\t 23.7 \t\t 5.4\n",
      "17.3 \t\t 13.3 \t\t 4.0\n",
      "24.4 \t\t 15.4 \t\t 9.0\n",
      "23.1 \t\t 18.2 \t\t 4.9\n",
      "24.4 \t\t 19.6 \t\t 4.8\n",
      "10.9 \t\t 29.4 \t\t -18.5\n",
      "24.5 \t\t 22.8 \t\t 1.7\n",
      "23.7 \t\t 21.7 \t\t 2.0\n",
      "17.8 \t\t 31.7 \t\t -13.9\n",
      "33.3 \t\t 34.6 \t\t -1.3\n",
      "23.8 \t\t 32.5 \t\t -8.7\n",
      "44.0 \t\t 43.5 \t\t 0.5\n",
      "19.6 \t\t 19.3 \t\t 0.3\n",
      "19.9 \t\t 21.5 \t\t -1.6\n",
      "28.4 \t\t 13.4 \t\t 15.0\n",
      "37.0 \t\t 26.7 \t\t 10.3\n",
      "23.9 \t\t 21.55 \t\t 2.35\n",
      "32.4 \t\t 25.0 \t\t 7.4\n",
      "19.5 \t\t 21.0 \t\t -1.5\n",
      "19.8 \t\t 22.5 \t\t -2.7\n",
      "7.0 \t\t 23.7 \t\t -16.7\n",
      "22.5 \t\t 7.2 \t\t 15.3\n",
      "17.8 \t\t 24.85 \t\t -7.05\n",
      "19.4 \t\t 20.3 \t\t -0.9\n",
      "16.3 \t\t 17.8 \t\t -1.5\n",
      "20.0 \t\t 22.5 \t\t -2.5\n",
      "28.4 \t\t 23.9 \t\t 4.5\n",
      "50.0 \t\t 18.4 \t\t 31.6\n",
      "24.7 \t\t 23.1 \t\t 1.6\n",
      "15.6 \t\t 15.0 \t\t 0.6\n",
      "28.0 \t\t 27.5 \t\t 0.5\n",
      "16.1 \t\t 14.9 \t\t 1.2\n"
     ]
    }
   ],
   "source": [
    "print('y_test\\t\\ty_pred\\t\\tDiferencia')\n",
    "for i in range(len(y_test)):\n",
    "    print(y_test4[i],'\\t\\t', round(Y_pred4[i], 2),'\\t\\t', round(y_test4[i]-Y_pred4[i],2))"
   ]
  },
  {
   "cell_type": "markdown",
   "id": "337c348e",
   "metadata": {},
   "source": [
    "Ahora vamos a comprobar la precisión del modelo con la función *score*"
   ]
  },
  {
   "cell_type": "code",
   "execution_count": 51,
   "id": "6443e14a",
   "metadata": {},
   "outputs": [
    {
     "name": "stdout",
     "output_type": "stream",
     "text": [
      "DATOS DEL MODELO ÁRBOLES DE DECISIÓN REGRESIÓN\n",
      "\n",
      "Precision del modelo:\n",
      "\t 0.95\n"
     ]
    }
   ],
   "source": [
    "print('DATOS DEL MODELO ÁRBOLES DE DECISIÓN REGRESIÓN')\n",
    "print()\n",
    "\n",
    "print('Precision del modelo:\\n\\t',\n",
    "     round(adr4.score(X_train4, y_train4), 2))"
   ]
  },
  {
   "cell_type": "markdown",
   "id": "0af8e5eb",
   "metadata": {},
   "source": [
    "Como bien se veia de manera gráfica nuestro modelo se adecua demasiado bien nos da una precision del *95%* pero de cierta manera podemos pensar que nuestro modelo se sobre ajusta con los datos, lo cual no puede servir con otros datos aparte de nuestro dataset."
   ]
  }
 ],
 "metadata": {
  "kernelspec": {
   "display_name": "Python 3 (ipykernel)",
   "language": "python",
   "name": "python3"
  },
  "language_info": {
   "codemirror_mode": {
    "name": "ipython",
    "version": 3
   },
   "file_extension": ".py",
   "mimetype": "text/x-python",
   "name": "python",
   "nbconvert_exporter": "python",
   "pygments_lexer": "ipython3",
   "version": "3.9.12"
  }
 },
 "nbformat": 4,
 "nbformat_minor": 5
}
