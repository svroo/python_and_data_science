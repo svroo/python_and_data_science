{
 "cells": [
  {
   "cell_type": "markdown",
   "metadata": {},
   "source": [
    "### Conversion de grados centigrados a Farenheit\n",
    "\n",
    "En este ejemplo vamos a crear un archivo *csv* de dos columnas, una de grados Celcius y otra con grados Farentheit y vamos a crear un modelo que convierta de Celcius a Farentheti usando tensorflow.\n",
    "\n",
    "Primero vamos a crear este archivo el cual tendra aproximadamente unos 100 registros."
   ]
  },
  {
   "cell_type": "code",
   "execution_count": 1,
   "metadata": {},
   "outputs": [],
   "source": [
    "# Importamos librerias\n",
    "import tensorflow as tf\n",
    "import pandas as pd\n",
    "import numpy as np\n",
    "import seaborn as sns\n",
    "import matplotlib.pyplot as plt"
   ]
  },
  {
   "cell_type": "code",
   "execution_count": 38,
   "metadata": {},
   "outputs": [],
   "source": [
    "# Creamos el archivo que contiene los datos\n",
    "celcius = [-50, -40, -30, -20, -10, -9, -8, -7, -6, -5, -4, -3, -2, -1, 0, 1, 2, 3, 4, 5, 6, 7, 8, 9, 10, 20, 30, 40, 50]\n",
    "farenheit = []\n",
    "\n",
    "# Creamos un ciclo para obtener los grados en farenheit\n",
    "for i in celcius:\n",
    "    if i <= 0:\n",
    "        aux = round((i * 9/5) + 32)\n",
    "        farenheit.append(aux)\n",
    "    else:\n",
    "        aux = round((i * 9/5) + 32, 2)\n",
    "        farenheit.append(aux)\n",
    "\n",
    "# Creamos un diccionario con estas dos variables\n",
    "data = {\"Celcius\": celcius, \n",
    "\"Farenheit\": farenheit}\n",
    "\n",
    "# Guardamos ambas listas en un DataFrame\n",
    "df_data = pd.DataFrame(data, columns= [\"Celcius\", \"Farenheit\"])\n",
    "\n",
    "# Guardamos el data frame en un csv\n",
    "df_data.to_csv(\"./celcius_to_farenheit.csv\", index=False)"
   ]
  },
  {
   "cell_type": "markdown",
   "metadata": {},
   "source": [
    "Ahora emprezaremos con el análisis de los datos, en el cuál vamos a obtener la formula con la que vamos a convertir los grados Celcius a Farentheit.\n",
    "\n",
    "Primero vamos a cargar nuestro csv recien creado"
   ]
  },
  {
   "cell_type": "code",
   "execution_count": 40,
   "metadata": {},
   "outputs": [
    {
     "data": {
      "text/plain": [
       "<AxesSubplot:xlabel='Celcius', ylabel='Farenheit'>"
      ]
     },
     "execution_count": 40,
     "metadata": {},
     "output_type": "execute_result"
    },
    {
     "data": {
      "image/png": "[encoded data removed]",
      "text/plain": [
       "<Figure size 432x288 with 1 Axes>"
      ]
     },
     "metadata": {
      "needs_background": "light"
     },
     "output_type": "display_data"
    }
   ],
   "source": [
    "# importamos datos\n",
    "temperature_df = pd.read_csv(\"./celcius_to_farenheit.csv\")\n",
    "\n",
    "# Visualizamos datos \n",
    "sns.scatterplot(x=temperature_df['Celcius'], y= temperature_df['Farenheit'])"
   ]
  },
  {
   "cell_type": "markdown",
   "metadata": {},
   "source": [
    "Dividimos los datos para entrenar a la maquina"
   ]
  },
  {
   "cell_type": "code",
   "execution_count": 41,
   "metadata": {},
   "outputs": [],
   "source": [
    "x_train = temperature_df['Celcius']\n",
    "y_train = temperature_df['Farenheit'] #Fahrenheit\n",
    "\n",
    "# Creamos el modelo de manera secuencial\n",
    "model = tf.keras.Sequential()\n",
    "model.add(tf.keras.layers.Dense(units=1, input_shape=[1]))\n",
    "model.summary()"
   ]
  },
  {
   "cell_type": "code",
   "execution_count": 49,
   "metadata": {},
   "outputs": [
    {
     "name": "stdout",
     "output_type": "stream",
     "text": [
      "Epoch 1/100\n",
      "1/1 [==============================] - 1s 574ms/step - loss: 1.3279\n",
      "Epoch 2/100\n",
      "1/1 [==============================] - 0s 10ms/step - loss: 397.2755\n",
      "Epoch 3/100\n",
      "1/1 [==============================] - 0s 9ms/step - loss: 26.3803\n",
      "Epoch 4/100\n",
      "1/1 [==============================] - 0s 7ms/step - loss: 84.8998\n",
      "Epoch 5/100\n",
      "1/1 [==============================] - 0s 5ms/step - loss: 229.0293\n",
      "Epoch 6/100\n",
      "1/1 [==============================] - 0s 22ms/step - loss: 174.6325\n",
      "Epoch 7/100\n",
      "1/1 [==============================] - 0s 18ms/step - loss: 51.3086\n",
      "Epoch 8/100\n",
      "1/1 [==============================] - 0s 4ms/step - loss: 0.2794\n",
      "Epoch 9/100\n",
      "1/1 [==============================] - 0s 11ms/step - loss: 46.6917\n",
      "Epoch 10/100\n",
      "1/1 [==============================] - 0s 7ms/step - loss: 107.1913\n",
      "Epoch 11/100\n",
      "1/1 [==============================] - 0s 6ms/step - loss: 106.8581\n",
      "Epoch 12/100\n",
      "1/1 [==============================] - 0s 7ms/step - loss: 55.8029\n",
      "Epoch 13/100\n",
      "1/1 [==============================] - 0s 19ms/step - loss: 8.6464\n",
      "Epoch 14/100\n",
      "1/1 [==============================] - 0s 5ms/step - loss: 3.8164\n",
      "Epoch 15/100\n",
      "1/1 [==============================] - 0s 10ms/step - loss: 33.7339\n",
      "Epoch 16/100\n",
      "1/1 [==============================] - 0s 8ms/step - loss: 59.3676\n",
      "Epoch 17/100\n",
      "1/1 [==============================] - 0s 4ms/step - loss: 54.0914\n",
      "Epoch 18/100\n",
      "1/1 [==============================] - 0s 6ms/step - loss: 26.2644\n",
      "Epoch 19/100\n",
      "1/1 [==============================] - 0s 4ms/step - loss: 3.1951\n",
      "Epoch 20/100\n",
      "1/1 [==============================] - 0s 6ms/step - loss: 3.0202\n",
      "Epoch 21/100\n",
      "1/1 [==============================] - 0s 6ms/step - loss: 19.8529\n",
      "Epoch 22/100\n",
      "1/1 [==============================] - 0s 6ms/step - loss: 32.8203\n",
      "Epoch 23/100\n",
      "1/1 [==============================] - 0s 7ms/step - loss: 28.5980\n",
      "Epoch 24/100\n",
      "1/1 [==============================] - 0s 4ms/step - loss: 12.7827\n",
      "Epoch 25/100\n",
      "1/1 [==============================] - 0s 5ms/step - loss: 1.0287\n",
      "Epoch 26/100\n",
      "1/1 [==============================] - 0s 4ms/step - loss: 2.6361\n",
      "Epoch 27/100\n",
      "1/1 [==============================] - 0s 5ms/step - loss: 12.6236\n",
      "Epoch 28/100\n",
      "1/1 [==============================] - 0s 5ms/step - loss: 18.6657\n",
      "Epoch 29/100\n",
      "1/1 [==============================] - 0s 6ms/step - loss: 14.5028\n",
      "Epoch 30/100\n",
      "1/1 [==============================] - 0s 5ms/step - loss: 5.1656\n",
      "Epoch 31/100\n",
      "1/1 [==============================] - 0s 6ms/step - loss: 0.0767\n",
      "Epoch 32/100\n",
      "1/1 [==============================] - 0s 5ms/step - loss: 2.9365\n",
      "Epoch 33/100\n",
      "1/1 [==============================] - 0s 6ms/step - loss: 8.8004\n",
      "Epoch 34/100\n",
      "1/1 [==============================] - 0s 6ms/step - loss: 10.4653\n",
      "Epoch 35/100\n",
      "1/1 [==============================] - 0s 11ms/step - loss: 6.3522\n",
      "Epoch 36/100\n",
      "1/1 [==============================] - 0s 4ms/step - loss: 1.2586\n",
      "Epoch 37/100\n",
      "1/1 [==============================] - 0s 7ms/step - loss: 0.2845\n",
      "Epoch 38/100\n",
      "1/1 [==============================] - 0s 5ms/step - loss: 3.3493\n",
      "Epoch 39/100\n",
      "1/1 [==============================] - 0s 6ms/step - loss: 6.0482\n",
      "Epoch 40/100\n",
      "1/1 [==============================] - 0s 4ms/step - loss: 5.1284\n",
      "Epoch 41/100\n",
      "1/1 [==============================] - 0s 4ms/step - loss: 1.8958\n",
      "Epoch 42/100\n",
      "1/1 [==============================] - 0s 6ms/step - loss: 0.0423\n",
      "Epoch 43/100\n",
      "1/1 [==============================] - 0s 4ms/step - loss: 1.1413\n",
      "Epoch 44/100\n",
      "1/1 [==============================] - 0s 5ms/step - loss: 3.1894\n",
      "Epoch 45/100\n",
      "1/1 [==============================] - 0s 5ms/step - loss: 3.4455\n",
      "Epoch 46/100\n",
      "1/1 [==============================] - 0s 5ms/step - loss: 1.7115\n",
      "Epoch 47/100\n",
      "1/1 [==============================] - 0s 7ms/step - loss: 0.1582\n",
      "Epoch 48/100\n",
      "1/1 [==============================] - 0s 6ms/step - loss: 0.4055\n",
      "Epoch 49/100\n",
      "1/1 [==============================] - 0s 6ms/step - loss: 1.6899\n",
      "Epoch 50/100\n",
      "1/1 [==============================] - 0s 8ms/step - loss: 2.1478\n",
      "Epoch 51/100\n",
      "1/1 [==============================] - 0s 6ms/step - loss: 1.2353\n",
      "Epoch 52/100\n",
      "1/1 [==============================] - 0s 6ms/step - loss: 0.1780\n",
      "Epoch 53/100\n",
      "1/1 [==============================] - 0s 6ms/step - loss: 0.1867\n",
      "Epoch 54/100\n",
      "1/1 [==============================] - 0s 5ms/step - loss: 0.9641\n",
      "Epoch 55/100\n",
      "1/1 [==============================] - 0s 4ms/step - loss: 1.3137\n",
      "Epoch 56/100\n",
      "1/1 [==============================] - 0s 5ms/step - loss: 0.7855\n",
      "Epoch 57/100\n",
      "1/1 [==============================] - 0s 4ms/step - loss: 0.1243\n",
      "Epoch 58/100\n",
      "1/1 [==============================] - 0s 5ms/step - loss: 0.1271\n",
      "Epoch 59/100\n",
      "1/1 [==============================] - 0s 7ms/step - loss: 0.6101\n",
      "Epoch 60/100\n",
      "1/1 [==============================] - 0s 9ms/step - loss: 0.8042\n",
      "Epoch 61/100\n",
      "1/1 [==============================] - 0s 5ms/step - loss: 0.4531\n",
      "Epoch 62/100\n",
      "1/1 [==============================] - 0s 6ms/step - loss: 0.0655\n",
      "Epoch 63/100\n",
      "1/1 [==============================] - 0s 4ms/step - loss: 0.1171\n",
      "Epoch 64/100\n",
      "1/1 [==============================] - 0s 6ms/step - loss: 0.4213\n",
      "Epoch 65/100\n",
      "1/1 [==============================] - 0s 5ms/step - loss: 0.4879\n",
      "Epoch 66/100\n",
      "1/1 [==============================] - 0s 6ms/step - loss: 0.2351\n",
      "Epoch 67/100\n",
      "1/1 [==============================] - 0s 4ms/step - loss: 0.0331\n",
      "Epoch 68/100\n",
      "1/1 [==============================] - 0s 8ms/step - loss: 0.1222\n",
      "Epoch 69/100\n",
      "1/1 [==============================] - 0s 9ms/step - loss: 0.3026\n",
      "Epoch 70/100\n",
      "1/1 [==============================] - 0s 6ms/step - loss: 0.2843\n",
      "Epoch 71/100\n",
      "1/1 [==============================] - 0s 6ms/step - loss: 0.1071\n",
      "Epoch 72/100\n",
      "1/1 [==============================] - 0s 3ms/step - loss: 0.0296\n",
      "Epoch 73/100\n",
      "1/1 [==============================] - 0s 5ms/step - loss: 0.1264\n",
      "Epoch 74/100\n",
      "1/1 [==============================] - 0s 5ms/step - loss: 0.2128\n",
      "Epoch 75/100\n",
      "1/1 [==============================] - 0s 5ms/step - loss: 0.1523\n",
      "Epoch 76/100\n",
      "1/1 [==============================] - 0s 6ms/step - loss: 0.0453\n",
      "Epoch 77/100\n",
      "1/1 [==============================] - 0s 5ms/step - loss: 0.0435\n",
      "Epoch 78/100\n",
      "1/1 [==============================] - 0s 15ms/step - loss: 0.1200\n",
      "Epoch 79/100\n",
      "1/1 [==============================] - 0s 7ms/step - loss: 0.1386\n",
      "Epoch 80/100\n",
      "1/1 [==============================] - 0s 5ms/step - loss: 0.0733\n",
      "Epoch 81/100\n",
      "1/1 [==============================] - 0s 6ms/step - loss: 0.0279\n",
      "Epoch 82/100\n",
      "1/1 [==============================] - 0s 5ms/step - loss: 0.0593\n",
      "Epoch 83/100\n",
      "1/1 [==============================] - 0s 5ms/step - loss: 0.0999\n",
      "Epoch 84/100\n",
      "1/1 [==============================] - 0s 5ms/step - loss: 0.0806\n",
      "Epoch 85/100\n",
      "1/1 [==============================] - 0s 8ms/step - loss: 0.0359\n",
      "Epoch 86/100\n",
      "1/1 [==============================] - 0s 4ms/step - loss: 0.0336\n",
      "Epoch 87/100\n",
      "1/1 [==============================] - 0s 9ms/step - loss: 0.0650\n",
      "Epoch 88/100\n",
      "1/1 [==============================] - 0s 5ms/step - loss: 0.0715\n",
      "Epoch 89/100\n",
      "1/1 [==============================] - 0s 5ms/step - loss: 0.0437\n",
      "Epoch 90/100\n",
      "1/1 [==============================] - 0s 5ms/step - loss: 0.0277\n",
      "Epoch 91/100\n",
      "1/1 [==============================] - 0s 8ms/step - loss: 0.0433\n",
      "Epoch 92/100\n",
      "1/1 [==============================] - 0s 6ms/step - loss: 0.0575\n",
      "Epoch 93/100\n",
      "1/1 [==============================] - 0s 6ms/step - loss: 0.0455\n",
      "Epoch 94/100\n",
      "1/1 [==============================] - 0s 5ms/step - loss: 0.0288\n",
      "Epoch 95/100\n",
      "1/1 [==============================] - 0s 7ms/step - loss: 0.0328\n",
      "Epoch 96/100\n",
      "1/1 [==============================] - 0s 7ms/step - loss: 0.0454\n",
      "Epoch 97/100\n",
      "1/1 [==============================] - 0s 6ms/step - loss: 0.0430\n",
      "Epoch 98/100\n",
      "1/1 [==============================] - 0s 4ms/step - loss: 0.0307\n",
      "Epoch 99/100\n",
      "1/1 [==============================] - 0s 5ms/step - loss: 0.0288\n",
      "Epoch 100/100\n",
      "1/1 [==============================] - 0s 10ms/step - loss: 0.0373\n"
     ]
    }
   ],
   "source": [
    "# Compilado\n",
    "model.compile(optimizer=tf.keras.optimizers.Adam(1), loss='mean_squared_error')\n",
    "\n",
    "# Entrenando el modelo \n",
    "epoch_hist = model.fit(x=x_train, y=y_train, epochs=100)"
   ]
  },
  {
   "cell_type": "code",
   "execution_count": 47,
   "metadata": {},
   "outputs": [
    {
     "data": {
      "text/plain": [
       "<matplotlib.legend.Legend at 0x19be4466140>"
      ]
     },
     "execution_count": 47,
     "metadata": {},
     "output_type": "execute_result"
    },
    {
     "data": {
      "image/png": "[encoded data removed]",
      "text/plain": [
       "<Figure size 432x288 with 1 Axes>"
      ]
     },
     "metadata": {
      "needs_background": "light"
     },
     "output_type": "display_data"
    }
   ],
   "source": [
    "# Evaluando el modelo\n",
    "epoch_hist.history.keys()\n",
    "\n",
    "# Grafico \n",
    "plt.plot(epoch_hist.history['loss'])\n",
    "plt.title(\"Progreso de perdida durante entrenamiento del Modelo\")\n",
    "plt.xlabel('Epoch')\n",
    "plt.ylabel('Training Loss')\n",
    "plt.legend('Training Loss')"
   ]
  },
  {
   "cell_type": "code",
   "execution_count": 50,
   "metadata": {},
   "outputs": [
    {
     "name": "stdout",
     "output_type": "stream",
     "text": [
      "1/1 [==============================] - 0s 153ms/step\n"
     ]
    },
    {
     "data": {
      "text/plain": [
       "array([[32.000404]], dtype=float32)"
      ]
     },
     "execution_count": 50,
     "metadata": {},
     "output_type": "execute_result"
    }
   ],
   "source": [
    "model.get_weights()\n",
    "\n",
    "# Predicciones\n",
    "Temp_C = 0\n",
    "Temp_F = model.predict([Temp_C])\n",
    "Temp_F"
   ]
  }
 ],
 "metadata": {
  "kernelspec": {
   "display_name": "Python 3.10.5 64-bit",
   "language": "python",
   "name": "python3"
  },
  "language_info": {
   "codemirror_mode": {
    "name": "ipython",
    "version": 3
   },
   "file_extension": ".py",
   "mimetype": "text/x-python",
   "name": "python",
   "nbconvert_exporter": "python",
   "pygments_lexer": "ipython3",
   "version": "3.10.5"
  },
  "orig_nbformat": 4,
  "vscode": {
   "interpreter": {
    "hash": "63963b3f4c440940f0b94a3100916033a226cb4f45979123153792d60aa56d6a"
   }
  }
 },
 "nbformat": 4,
 "nbformat_minor": 2
}
